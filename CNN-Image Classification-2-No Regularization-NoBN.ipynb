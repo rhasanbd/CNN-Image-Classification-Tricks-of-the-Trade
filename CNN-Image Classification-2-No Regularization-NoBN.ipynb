{
 "cells": [
  {
   "cell_type": "markdown",
   "metadata": {},
   "source": [
    "# Image Classification using CNN - No Regularization & No BN\n",
    "\n",
    "\n",
    "In this notebook, we perform classification of the MNIST Fashion dataset without any **regularization**. Also we don't apply batch normalization (BN).\n",
    "\n",
    "\n",
    "### CNN Architecture\n",
    "\n",
    "We build a 4-hidden layer CNN model:\n",
    "- 3 Convolutional layers and 1 Fully-Connected (dense) layer"
   ]
  },
  {
   "cell_type": "code",
   "execution_count": 1,
   "metadata": {},
   "outputs": [],
   "source": [
    "import numpy as np\n",
    "import matplotlib.pyplot as plt\n",
    "\n",
    "from sklearn.metrics import confusion_matrix\n",
    "\n",
    "import tensorflow as tf\n",
    "from tensorflow import keras\n",
    "from tensorflow.keras.preprocessing.image import ImageDataGenerator\n",
    "\n",
    "from keras.utils.np_utils import to_categorical \n",
    "\n",
    "from tensorflow.keras.models import Sequential\n",
    "from tensorflow.keras.layers import Activation\n",
    "from tensorflow.keras.layers import Conv2D\n",
    "from tensorflow.keras.layers import MaxPooling2D\n",
    "from tensorflow.keras.layers import Dense\n",
    "from tensorflow.keras.layers import Flatten\n",
    "from tensorflow.keras.layers import Dropout\n",
    "from tensorflow.keras.layers import BatchNormalization"
   ]
  },
  {
   "cell_type": "markdown",
   "metadata": {},
   "source": [
    "## Load & Preprocess Data"
   ]
  },
  {
   "cell_type": "code",
   "execution_count": 2,
   "metadata": {},
   "outputs": [
    {
     "name": "stdout",
     "output_type": "stream",
     "text": [
      "\n",
      "Shape of Training Samples:  (55000, 28, 28, 1)\n",
      "Shape of Training Labels:  (55000, 10)\n",
      "\n",
      "Shape of Validation Samples:  (5000, 28, 28, 1)\n",
      "Shape of Validation Labels:  (5000, 10)\n",
      "\n",
      "Shape of Testing Samples:  (10000, 28, 28, 1)\n",
      "Shape of Testing Labels:  (10000, 10)\n",
      "\n",
      "Data type:  float32\n",
      "Label type:  float32\n"
     ]
    }
   ],
   "source": [
    "(X_train_full, y_train_full), (X_test, y_test) = keras.datasets.fashion_mnist.load_data()\n",
    "\n",
    "\n",
    "# Split the training set into training & validation subsets\n",
    "X_train = X_train_full[5000:]\n",
    "y_train = y_train_full[5000:]\n",
    "X_valid = X_train_full[:5000]\n",
    "y_valid = y_train_full[:5000]\n",
    "\n",
    "\n",
    "# The data must be a 4D tensor: sample size, height, width, channels\n",
    "# Add a single channel for the grayscale images (for RGB images this step is not required)\n",
    "X_train = X_train.reshape((X_train.shape[0], 28, 28, 1))\n",
    "X_valid = X_valid.reshape((X_valid.shape[0], 28, 28, 1))\n",
    "X_test = X_test.reshape((X_test.shape[0], 28, 28, 1))\n",
    "\n",
    "\n",
    "# Convert datatype to float32\n",
    "X_train = X_train.astype('float32')\n",
    "X_valid = X_valid.astype('float32')\n",
    "X_test = X_test.astype('float32')\n",
    "\n",
    "\n",
    "# Scale the data\n",
    "X_train = X_train/255.0\n",
    "X_valid = X_valid/255.0\n",
    "X_test = X_test/255.0\n",
    "\n",
    "\n",
    "# One-hot encode the labels\n",
    "y_train = to_categorical(y_train, 10)\n",
    "y_valid = to_categorical(y_valid, 10)\n",
    "y_test = to_categorical(y_test, 10)\n",
    "\n",
    "\n",
    "print(\"\\nShape of Training Samples: \", X_train.shape)\n",
    "print(\"Shape of Training Labels: \", y_train.shape)\n",
    "\n",
    "print(\"\\nShape of Validation Samples: \", X_valid.shape)\n",
    "print(\"Shape of Validation Labels: \", y_valid.shape)\n",
    "\n",
    "print(\"\\nShape of Testing Samples: \", X_test.shape)\n",
    "print(\"Shape of Testing Labels: \", y_test.shape)\n",
    "\n",
    "print(\"\\nData type: \", X_train.dtype)\n",
    "print(\"Label type: \", y_train.dtype)"
   ]
  },
  {
   "cell_type": "markdown",
   "metadata": {},
   "source": [
    "## Create the CNN Model\n",
    "\n",
    "We apply the batch normalization (BN) layer before activation. There is no need to use bias neurons in the Convolutional layers (set the use_bias to False). Because the Conv layer is followed by a BN layer that adds a bias. The BN \"shift\" parameter shifts the output of the layer (thus acts like a bias). "
   ]
  },
  {
   "cell_type": "code",
   "execution_count": 3,
   "metadata": {},
   "outputs": [
    {
     "name": "stdout",
     "output_type": "stream",
     "text": [
      "Model: \"sequential\"\n",
      "_________________________________________________________________\n",
      "Layer (type)                 Output Shape              Param #   \n",
      "=================================================================\n",
      "conv2d (Conv2D)              (None, 28, 28, 32)        288       \n",
      "_________________________________________________________________\n",
      "activation (Activation)      (None, 28, 28, 32)        0         \n",
      "_________________________________________________________________\n",
      "max_pooling2d (MaxPooling2D) (None, 14, 14, 32)        0         \n",
      "_________________________________________________________________\n",
      "conv2d_1 (Conv2D)            (None, 14, 14, 64)        18432     \n",
      "_________________________________________________________________\n",
      "activation_1 (Activation)    (None, 14, 14, 64)        0         \n",
      "_________________________________________________________________\n",
      "max_pooling2d_1 (MaxPooling2 (None, 7, 7, 64)          0         \n",
      "_________________________________________________________________\n",
      "conv2d_2 (Conv2D)            (None, 7, 7, 64)          36864     \n",
      "_________________________________________________________________\n",
      "activation_2 (Activation)    (None, 7, 7, 64)          0         \n",
      "_________________________________________________________________\n",
      "flatten (Flatten)            (None, 3136)              0         \n",
      "_________________________________________________________________\n",
      "dense (Dense)                (None, 128)               401536    \n",
      "_________________________________________________________________\n",
      "activation_3 (Activation)    (None, 128)               0         \n",
      "_________________________________________________________________\n",
      "dense_1 (Dense)              (None, 10)                1290      \n",
      "=================================================================\n",
      "Total params: 458,410\n",
      "Trainable params: 458,410\n",
      "Non-trainable params: 0\n",
      "_________________________________________________________________\n",
      "CPU times: user 94.3 ms, sys: 17 ms, total: 111 ms\n",
      "Wall time: 89.7 ms\n"
     ]
    }
   ],
   "source": [
    "%%time\n",
    "\n",
    "'''\n",
    "Delete the TensorFlow graph before creating a new model, otherwise memory overflow will occur.\n",
    "'''\n",
    "keras.backend.clear_session()\n",
    "\n",
    "'''\n",
    "To reproduce the same result by the model in each iteration, we use fixed seeds for random number generation. \n",
    "'''\n",
    "np.random.seed(42)\n",
    "tf.random.set_seed(42)\n",
    "\n",
    "\n",
    "'''\n",
    "Create a Sequential model composed of a single stack of layers connected sequentially. \n",
    "'''\n",
    "initializer = 'he_normal'\n",
    "activation_func = 'relu'\n",
    "\n",
    "\n",
    "model = Sequential()\n",
    "model.add(Conv2D(32, (3, 3), kernel_initializer=initializer, padding='same', use_bias=False, \n",
    "                 input_shape=(28, 28, 1)))\n",
    "model.add(Activation(activation_func))\n",
    "model.add(MaxPooling2D((2, 2)))\n",
    "\n",
    "model.add(Conv2D(64, (3, 3), kernel_initializer=initializer, padding='same', use_bias=False))\n",
    "model.add(Activation(activation_func))\n",
    "model.add(MaxPooling2D((2, 2)))\n",
    "\n",
    "model.add(Conv2D(64, (3, 3), kernel_initializer=initializer, padding='same', use_bias=False))\n",
    "model.add(Activation(activation_func))\n",
    "model.add(Flatten())\n",
    "\n",
    "model.add(Dense(128, kernel_initializer=initializer))\n",
    "model.add(Activation(activation_func))\n",
    "model.add(Dense(10, activation='softmax'))\n",
    "\n",
    "\n",
    "'''\n",
    "Compile the model\n",
    "'''\n",
    "model.compile(loss=\"categorical_crossentropy\",\n",
    "              optimizer='adam',\n",
    "              metrics=[\"accuracy\"])\n",
    "\n",
    "model.summary()"
   ]
  },
  {
   "cell_type": "markdown",
   "metadata": {},
   "source": [
    "## Train the Model"
   ]
  },
  {
   "cell_type": "code",
   "execution_count": 4,
   "metadata": {},
   "outputs": [
    {
     "name": "stdout",
     "output_type": "stream",
     "text": [
      "Epoch 1/20\n",
      "430/430 [==============================] - 27s 62ms/step - loss: 0.4314 - accuracy: 0.8460 - val_loss: 0.2890 - val_accuracy: 0.8988\n",
      "Epoch 2/20\n",
      "430/430 [==============================] - 27s 63ms/step - loss: 0.2765 - accuracy: 0.9005 - val_loss: 0.2566 - val_accuracy: 0.9078\n",
      "Epoch 3/20\n",
      "430/430 [==============================] - 27s 64ms/step - loss: 0.2291 - accuracy: 0.9170 - val_loss: 0.2542 - val_accuracy: 0.9070\n",
      "Epoch 4/20\n",
      "430/430 [==============================] - 28s 65ms/step - loss: 0.1974 - accuracy: 0.9276 - val_loss: 0.2316 - val_accuracy: 0.9164\n",
      "Epoch 5/20\n",
      "430/430 [==============================] - 28s 65ms/step - loss: 0.1759 - accuracy: 0.9355 - val_loss: 0.2178 - val_accuracy: 0.9210\n",
      "Epoch 6/20\n",
      "430/430 [==============================] - 28s 65ms/step - loss: 0.1527 - accuracy: 0.9441 - val_loss: 0.2087 - val_accuracy: 0.9290\n",
      "Epoch 7/20\n",
      "430/430 [==============================] - 28s 66ms/step - loss: 0.1333 - accuracy: 0.9506 - val_loss: 0.2220 - val_accuracy: 0.9204\n",
      "Epoch 8/20\n",
      "430/430 [==============================] - 29s 67ms/step - loss: 0.1163 - accuracy: 0.9574 - val_loss: 0.2205 - val_accuracy: 0.9266\n",
      "Epoch 9/20\n",
      "430/430 [==============================] - 29s 68ms/step - loss: 0.0991 - accuracy: 0.9627 - val_loss: 0.2564 - val_accuracy: 0.9196\n",
      "Epoch 10/20\n",
      "430/430 [==============================] - 29s 68ms/step - loss: 0.0879 - accuracy: 0.9666 - val_loss: 0.2480 - val_accuracy: 0.9238\n",
      "Epoch 11/20\n",
      "430/430 [==============================] - 29s 68ms/step - loss: 0.0740 - accuracy: 0.9733 - val_loss: 0.2558 - val_accuracy: 0.9242\n",
      "Epoch 12/20\n",
      "430/430 [==============================] - 29s 68ms/step - loss: 0.0592 - accuracy: 0.9782 - val_loss: 0.2937 - val_accuracy: 0.9190\n",
      "Epoch 13/20\n",
      "430/430 [==============================] - 29s 68ms/step - loss: 0.0505 - accuracy: 0.9815 - val_loss: 0.2939 - val_accuracy: 0.9248\n",
      "Epoch 14/20\n",
      "430/430 [==============================] - 30s 69ms/step - loss: 0.0435 - accuracy: 0.9841 - val_loss: 0.3326 - val_accuracy: 0.9206\n",
      "Epoch 15/20\n",
      "430/430 [==============================] - 30s 69ms/step - loss: 0.0424 - accuracy: 0.9850 - val_loss: 0.3136 - val_accuracy: 0.9244\n",
      "Epoch 16/20\n",
      "430/430 [==============================] - 29s 69ms/step - loss: 0.0344 - accuracy: 0.9877 - val_loss: 0.3443 - val_accuracy: 0.9220\n",
      "Epoch 17/20\n",
      "430/430 [==============================] - 29s 68ms/step - loss: 0.0296 - accuracy: 0.9890 - val_loss: 0.3350 - val_accuracy: 0.9236\n",
      "Epoch 18/20\n",
      "430/430 [==============================] - 30s 69ms/step - loss: 0.0260 - accuracy: 0.9911 - val_loss: 0.3531 - val_accuracy: 0.9260\n",
      "Epoch 19/20\n",
      "430/430 [==============================] - 30s 69ms/step - loss: 0.0277 - accuracy: 0.9902 - val_loss: 0.4038 - val_accuracy: 0.9262\n",
      "Epoch 20/20\n",
      "430/430 [==============================] - 30s 69ms/step - loss: 0.0247 - accuracy: 0.9915 - val_loss: 0.4115 - val_accuracy: 0.9168\n",
      "CPU times: user 43min 20s, sys: 6min 30s, total: 49min 51s\n",
      "Wall time: 9min 37s\n"
     ]
    }
   ],
   "source": [
    "%%time\n",
    "\n",
    "no_of_epochs = 20\n",
    "size_of_mini_batch = 128\n",
    "\n",
    "history = model.fit(X_train, y_train, \n",
    "                    batch_size=size_of_mini_batch, \n",
    "                    epochs=no_of_epochs,\n",
    "                    verbose=1,\n",
    "                    validation_data=(X_valid, y_valid))"
   ]
  },
  {
   "cell_type": "markdown",
   "metadata": {},
   "source": [
    "## Evaluate the Model on Test Data"
   ]
  },
  {
   "cell_type": "code",
   "execution_count": 5,
   "metadata": {},
   "outputs": [
    {
     "name": "stdout",
     "output_type": "stream",
     "text": [
      "Epochs:  20\n",
      "\n",
      "Test Accuracy: 0.912\n",
      "Test Loss: 0.476\n",
      "\n",
      "Train Accuracy: 0.988\n",
      "Train Loss: 0.033\n",
      "\n",
      "Test Confusion Matrix:\n",
      "[[836   1  19  16   5   2 115   0   6   0]\n",
      " [  1 990   0   5   1   0   1   0   2   0]\n",
      " [ 14   1 914   9  16   0  46   0   0   0]\n",
      " [ 12   6   8 928  10   0  36   0   0   0]\n",
      " [  1   0  94  34 764   0 106   0   1   0]\n",
      " [  0   0   0   0   0 988   0   9   0   3]\n",
      " [ 88   1  65  26  28   0 786   0   6   0]\n",
      " [  0   1   0   0   0   6   0 972   0  21]\n",
      " [  3   0   2   4   1   2   3   2 983   0]\n",
      " [  0   0   0   0   0   8   1  28   0 963]]\n"
     ]
    }
   ],
   "source": [
    "numOfEpochs = len(history.history['loss'])\n",
    "print(\"Epochs: \", numOfEpochs)\n",
    "\n",
    "test_loss, test_accuracy = model.evaluate(X_test, y_test, verbose=0)\n",
    "\n",
    "print(\"\\nTest Accuracy: {:.3f}\".format(test_accuracy))\n",
    "print(\"Test Loss: {:.3f}\".format(test_loss))\n",
    "\n",
    "train_loss, train_accuracy = model.evaluate(X_train, y_train, verbose=0)\n",
    "\n",
    "print(\"\\nTrain Accuracy: {:.3f}\".format(train_accuracy))\n",
    "print(\"Train Loss: {:.3f}\".format(train_loss))\n",
    "\n",
    "# model.predict(X_test) method return 10 probabilities per class for each instance (Dimension Nx10)\n",
    "y_test_predicted = model.predict(X_test)\n",
    "y_test_predicted_highest_proba = np.argmax(y_test_predicted, axis=1) # get the label/index of the highest probability class\n",
    "\n",
    "# get the label/index of the highest probability class\n",
    "y_test_highest_proba = np.argmax(y_test, axis=1) \n",
    "\n",
    "print(\"\\nTest Confusion Matrix:\")\n",
    "print(confusion_matrix(y_test_highest_proba, y_test_predicted_highest_proba))"
   ]
  },
  {
   "cell_type": "markdown",
   "metadata": {},
   "source": [
    "## Plot Learning Curves"
   ]
  },
  {
   "cell_type": "code",
   "execution_count": 6,
   "metadata": {},
   "outputs": [
    {
     "data": {
      "image/png": "[encoded data removed]",
      "text/plain": [
       "<Figure size 1296x432 with 2 Axes>"
      ]
     },
     "metadata": {
      "needs_background": "light"
     },
     "output_type": "display_data"
    }
   ],
   "source": [
    "plt.figure(figsize=(18,6))\n",
    "\n",
    "plt.subplot(121)\n",
    "plt.plot(range(1,numOfEpochs+1),history.history['val_accuracy'],label='validation')\n",
    "plt.plot(range(1,numOfEpochs+1),history.history['accuracy'],label='training')\n",
    "plt.legend(loc=0)\n",
    "plt.xlabel('Epochs')\n",
    "plt.ylabel('Accuracy')\n",
    "plt.xlim([1,numOfEpochs])\n",
    "plt.grid(True)\n",
    "plt.title(\"Model Accuracy\")\n",
    "\n",
    "plt.subplot(122)\n",
    "plt.plot(range(1,numOfEpochs+1),history.history['val_loss'],label='validation')\n",
    "plt.plot(range(1,numOfEpochs+1),history.history['loss'],label='training')\n",
    "plt.legend(loc=0)\n",
    "plt.xlabel('Epochs')\n",
    "plt.ylabel('Loss')\n",
    "plt.xlim([1,numOfEpochs])\n",
    "plt.grid(True)\n",
    "plt.title(\"Model Loss\")\n",
    "\n",
    "plt.show()"
   ]
  }
 ],
 "metadata": {
  "kernelspec": {
   "display_name": "Python 3",
   "language": "python",
   "name": "python3"
  },
  "language_info": {
   "codemirror_mode": {
    "name": "ipython",
    "version": 3
   },
   "file_extension": ".py",
   "mimetype": "text/x-python",
   "name": "python",
   "nbconvert_exporter": "python",
   "pygments_lexer": "ipython3",
   "version": "3.7.3"
  }
 },
 "nbformat": 4,
 "nbformat_minor": 2
}
