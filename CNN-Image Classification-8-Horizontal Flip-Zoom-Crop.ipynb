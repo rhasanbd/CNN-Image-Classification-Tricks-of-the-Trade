{
 "cells": [
  {
   "cell_type": "markdown",
   "metadata": {},
   "source": [
    "# Image Classification using CNN - Horizontal Flip, Zoom, Rotation & Random Crop\n",
    "\n",
    "In this notebook, we perform classification of the MNIST Fashion dataset. We train the model with augmented data. We perform horizontal flip augmentation.\n",
    "\n",
    "\n",
    "### CNN Architecture\n",
    "\n",
    "We build a 4-hidden layer CNN model:\n",
    "- 3 Convolutional layers and 1 Fully-Connected (dense) layer\n",
    "\n",
    "\n",
    "### Regularization\n",
    "To reduce overfitting, we use data augmentation based regularization. We perform:\n",
    "- Horizontal flip\n",
    "- Zoom\n",
    "- Rotation\n",
    "- Random Crop\n",
    "\n",
    "Refer to the following notebook to learn how to use Keras' ImageDataGenerator class to perform data augmentation.\n",
    "https://github.com/rhasanbd/Data-Augmentation/blob/main/Keras-Data%20Augmentation.ipynb\n",
    "\n",
    "\n",
    "### Overcome Vanishing Gradient Problem\n",
    "We use Batch Normalization to overcome the vanishing gradient problem."
   ]
  },
  {
   "cell_type": "code",
   "execution_count": 2,
   "metadata": {},
   "outputs": [],
   "source": [
    "import numpy as np\n",
    "import matplotlib.pyplot as plt\n",
    "\n",
    "from sklearn.metrics import confusion_matrix\n",
    "\n",
    "import tensorflow as tf\n",
    "from tensorflow import keras\n",
    "from tensorflow.keras.preprocessing.image import ImageDataGenerator\n",
    "\n",
    "from keras.utils.np_utils import to_categorical \n",
    "\n",
    "from tensorflow.keras.models import Sequential\n",
    "from tensorflow.keras.layers import Activation\n",
    "from tensorflow.keras.layers import Conv2D\n",
    "from tensorflow.keras.layers import MaxPooling2D\n",
    "from tensorflow.keras.layers import Dense\n",
    "from tensorflow.keras.layers import Flatten\n",
    "from tensorflow.keras.layers import Dropout\n",
    "from tensorflow.keras.layers import BatchNormalization"
   ]
  },
  {
   "cell_type": "markdown",
   "metadata": {},
   "source": [
    "## Load & Preprocess Data"
   ]
  },
  {
   "cell_type": "code",
   "execution_count": 4,
   "metadata": {},
   "outputs": [
    {
     "name": "stdout",
     "output_type": "stream",
     "text": [
      "\n",
      "Shape of Training Samples:  (55000, 28, 28, 1)\n",
      "Shape of Training Labels:  (55000, 10)\n",
      "\n",
      "Shape of Validation Samples:  (5000, 28, 28, 1)\n",
      "Shape of Validation Labels:  (5000, 10)\n",
      "\n",
      "Shape of Testing Samples:  (10000, 28, 28, 1)\n",
      "Shape of Testing Labels:  (10000, 10)\n",
      "\n",
      "Data type:  float32\n",
      "Label type:  float32\n"
     ]
    }
   ],
   "source": [
    "(X_train_full, y_train_full), (X_test, y_test) = keras.datasets.fashion_mnist.load_data()\n",
    "\n",
    "\n",
    "# Split the training set into training & validation subsets\n",
    "X_train = X_train_full[5000:]\n",
    "y_train = y_train_full[5000:]\n",
    "X_valid = X_train_full[:5000]\n",
    "y_valid = y_train_full[:5000]\n",
    "\n",
    "\n",
    "# The data must be a 4D tensor: sample size, height, width, channels\n",
    "# Add a single channel for the grayscale images (for RGB images this step is not required)\n",
    "X_train = X_train.reshape((X_train.shape[0], 28, 28, 1))\n",
    "X_valid = X_valid.reshape((X_valid.shape[0], 28, 28, 1))\n",
    "X_test = X_test.reshape((X_test.shape[0], 28, 28, 1))\n",
    "\n",
    "\n",
    "# Convert datatype to float32\n",
    "X_train = X_train.astype('float32')\n",
    "X_valid = X_valid.astype('float32')\n",
    "X_test = X_test.astype('float32')\n",
    "\n",
    "\n",
    "# Scale the data\n",
    "X_train = X_train/255.0\n",
    "X_valid = X_valid/255.0\n",
    "X_test = X_test/255.0\n",
    "\n",
    "\n",
    "# One-hot encode the labels\n",
    "y_train = to_categorical(y_train, 10)\n",
    "y_valid = to_categorical(y_valid, 10)\n",
    "y_test = to_categorical(y_test, 10)\n",
    "\n",
    "\n",
    "print(\"\\nShape of Training Samples: \", X_train.shape)\n",
    "print(\"Shape of Training Labels: \", y_train.shape)\n",
    "\n",
    "print(\"\\nShape of Validation Samples: \", X_valid.shape)\n",
    "print(\"Shape of Validation Labels: \", y_valid.shape)\n",
    "\n",
    "print(\"\\nShape of Testing Samples: \", X_test.shape)\n",
    "print(\"Shape of Testing Labels: \", y_test.shape)\n",
    "\n",
    "print(\"\\nData type: \", X_train.dtype)\n",
    "print(\"Label type: \", y_train.dtype)"
   ]
  },
  {
   "cell_type": "markdown",
   "metadata": {},
   "source": [
    "## Data Augmentation\n",
    "\n",
    "We perform following data augmentation on the training data.\n",
    "- Resize: add 4 pixels so that after random cropping image shape is back to 28 x 28\n",
    "- Rotation\n",
    "- Zoom\n",
    "- Horizontal flip\n",
    "- Random crop\n",
    "\n",
    "\n",
    "## Function for Random Cropping & Generator"
   ]
  },
  {
   "cell_type": "code",
   "execution_count": 3,
   "metadata": {},
   "outputs": [],
   "source": [
    "def random_crop(img, random_crop_size, number_of_channels):\n",
    "    # Note: image_data_format is 'channel_last'\n",
    "    assert img.shape[2] == number_of_channels\n",
    "    height, width = img.shape[0], img.shape[1]\n",
    "    dy, dx = random_crop_size\n",
    "    x = np.random.randint(0, width - dx + 1)\n",
    "    y = np.random.randint(0, height - dy + 1)\n",
    "    return img[y:(y+dy), x:(x+dx), :]\n",
    "\n",
    "\n",
    "def crop_generator(batches, crop_length, number_of_channels):\n",
    "    '''\n",
    "    It takes as input a Keras Image Generator object (Iterator) and generates random crops \n",
    "    from the image batches generated by the original iterator.\n",
    "    '''\n",
    "    while True:\n",
    "        batch_x, batch_y = next(batches)\n",
    "        batch_crops = np.zeros((batch_x.shape[0], crop_length, crop_length, number_of_channels))\n",
    "        for i in range(batch_x.shape[0]):\n",
    "            batch_crops[i] = random_crop(batch_x[i], (crop_length, crop_length), number_of_channels)\n",
    "        yield (batch_crops, batch_y)"
   ]
  },
  {
   "cell_type": "markdown",
   "metadata": {},
   "source": [
    "## Data Augmentation Generator"
   ]
  },
  {
   "cell_type": "code",
   "execution_count": 4,
   "metadata": {},
   "outputs": [
    {
     "name": "stdout",
     "output_type": "stream",
     "text": [
      "CPU times: user 3.09 s, sys: 281 ms, total: 3.37 s\n",
      "Wall time: 735 ms\n"
     ]
    }
   ],
   "source": [
    "%%time\n",
    "\n",
    "size_of_mini_batch = 128\n",
    "crop_length = 28\n",
    "\n",
    "'''\n",
    "Augment training data\n",
    "- Resize: add 4 pixels so that after random cropping image shape is back to 32 x 32\n",
    "- Rotation\n",
    "- Zoom\n",
    "- Horizontal flip\n",
    "'''\n",
    "X_train_resize = tf.image.resize(X_train, [32, 32], method='nearest', preserve_aspect_ratio=True)\n",
    "\n",
    "train_datagen = ImageDataGenerator(\n",
    "    featurewise_center=False,  # set input mean to 0 over the dataset\n",
    "    samplewise_center=False,  # set each sample mean to 0\n",
    "    featurewise_std_normalization=False,  # divide inputs by std of the dataset\n",
    "    samplewise_std_normalization=False,  # divide each input by its std\n",
    "    zca_whitening=False,  # apply ZCA whitening\n",
    "    zoom_range=0.4,\n",
    "    rotation_range=20,  # randomly rotate images in the range (degrees, 0 to 180)\n",
    "    width_shift_range=0,  # randomly shift images horizontally (fraction of total width)\n",
    "    height_shift_range=0,  # randomly shift images vertically (fraction of total height)\n",
    "    horizontal_flip=True,  # randomly flip images\n",
    "    vertical_flip=False)  # randomly flip images\n",
    "    \n",
    "\n",
    "train_datagen.fit(X_train_resize)\n",
    "X_train_datagen = train_datagen.flow(x=X_train_resize, y=y_train, batch_size=size_of_mini_batch)\n",
    "\n",
    "\n",
    "'''\n",
    "Create a cropped data generator using the augmented iterator object\n",
    "'''\n",
    "X_train_cropped = crop_generator(X_train_datagen, crop_length, 1)\n",
    "\n",
    "\n",
    "'''\n",
    "Create an ImageDataGenerator object for the validation data.\n",
    "However, validation data should not be augmented.\n",
    "'''\n",
    "\n",
    "validation_size_of_mini_batch = 100\n",
    "\n",
    "valid_datagen = ImageDataGenerator()\n",
    "valid_datagen.fit(X_valid)\n",
    "X_valid_datagen = valid_datagen.flow(x=X_valid, y=y_valid, batch_size=validation_size_of_mini_batch)"
   ]
  },
  {
   "cell_type": "markdown",
   "metadata": {},
   "source": [
    "## Create the CNN Model\n",
    "\n",
    "We apply the batch normalization (BN) layer before activation. There is no need to use bias neurons in the Convolutional layers (set the use_bias to False). Because the Conv layer is followed by a BN layer that adds a bias. The BN \"shift\" parameter shifts the output of the layer (thus acts like a bias). "
   ]
  },
  {
   "cell_type": "code",
   "execution_count": 5,
   "metadata": {},
   "outputs": [
    {
     "name": "stdout",
     "output_type": "stream",
     "text": [
      "Model: \"sequential\"\n",
      "_________________________________________________________________\n",
      "Layer (type)                 Output Shape              Param #   \n",
      "=================================================================\n",
      "conv2d (Conv2D)              (None, 28, 28, 32)        288       \n",
      "_________________________________________________________________\n",
      "batch_normalization (BatchNo (None, 28, 28, 32)        128       \n",
      "_________________________________________________________________\n",
      "activation (Activation)      (None, 28, 28, 32)        0         \n",
      "_________________________________________________________________\n",
      "max_pooling2d (MaxPooling2D) (None, 14, 14, 32)        0         \n",
      "_________________________________________________________________\n",
      "conv2d_1 (Conv2D)            (None, 14, 14, 64)        18432     \n",
      "_________________________________________________________________\n",
      "batch_normalization_1 (Batch (None, 14, 14, 64)        256       \n",
      "_________________________________________________________________\n",
      "activation_1 (Activation)    (None, 14, 14, 64)        0         \n",
      "_________________________________________________________________\n",
      "max_pooling2d_1 (MaxPooling2 (None, 7, 7, 64)          0         \n",
      "_________________________________________________________________\n",
      "conv2d_2 (Conv2D)            (None, 7, 7, 64)          36864     \n",
      "_________________________________________________________________\n",
      "batch_normalization_2 (Batch (None, 7, 7, 64)          256       \n",
      "_________________________________________________________________\n",
      "activation_2 (Activation)    (None, 7, 7, 64)          0         \n",
      "_________________________________________________________________\n",
      "flatten (Flatten)            (None, 3136)              0         \n",
      "_________________________________________________________________\n",
      "dense (Dense)                (None, 128)               401536    \n",
      "_________________________________________________________________\n",
      "batch_normalization_3 (Batch (None, 128)               512       \n",
      "_________________________________________________________________\n",
      "activation_3 (Activation)    (None, 128)               0         \n",
      "_________________________________________________________________\n",
      "dense_1 (Dense)              (None, 10)                1290      \n",
      "=================================================================\n",
      "Total params: 459,562\n",
      "Trainable params: 458,986\n",
      "Non-trainable params: 576\n",
      "_________________________________________________________________\n",
      "CPU times: user 740 ms, sys: 47.3 ms, total: 788 ms\n",
      "Wall time: 251 ms\n"
     ]
    }
   ],
   "source": [
    "%%time\n",
    "\n",
    "'''\n",
    "Delete the TensorFlow graph before creating a new model, otherwise memory overflow will occur.\n",
    "'''\n",
    "keras.backend.clear_session()\n",
    "\n",
    "'''\n",
    "To reproduce the same result by the model in each iteration, we use fixed seeds for random number generation. \n",
    "'''\n",
    "np.random.seed(42)\n",
    "tf.random.set_seed(42)\n",
    "\n",
    "\n",
    "'''\n",
    "Create a Sequential model composed of a single stack of layers connected sequentially. \n",
    "'''\n",
    "initializer = 'he_normal'\n",
    "activation_func = 'relu'\n",
    "\n",
    "\n",
    "model = Sequential()\n",
    "model.add(Conv2D(32, (3, 3), kernel_initializer=initializer, padding='same', use_bias=False, \n",
    "                 input_shape=(28, 28, 1)))\n",
    "model.add(BatchNormalization())\n",
    "model.add(Activation(activation_func))\n",
    "model.add(MaxPooling2D((2, 2)))\n",
    "\n",
    "model.add(Conv2D(64, (3, 3), kernel_initializer=initializer, padding='same', use_bias=False))\n",
    "model.add(BatchNormalization())\n",
    "model.add(Activation(activation_func))\n",
    "model.add(MaxPooling2D((2, 2)))\n",
    "\n",
    "model.add(Conv2D(64, (3, 3), kernel_initializer=initializer, padding='same', use_bias=False))\n",
    "model.add(BatchNormalization())\n",
    "model.add(Activation(activation_func))\n",
    "model.add(Flatten())\n",
    "\n",
    "model.add(Dense(128, kernel_initializer=initializer))\n",
    "model.add(BatchNormalization())\n",
    "model.add(Activation(activation_func))\n",
    "model.add(Dense(10, activation='softmax'))\n",
    "\n",
    "\n",
    "'''\n",
    "Compile the model\n",
    "'''\n",
    "model.compile(loss=\"categorical_crossentropy\",\n",
    "              optimizer='adam',\n",
    "              metrics=[\"accuracy\"])\n",
    "\n",
    "model.summary()"
   ]
  },
  {
   "cell_type": "markdown",
   "metadata": {},
   "source": [
    "## Train the Model"
   ]
  },
  {
   "cell_type": "code",
   "execution_count": 6,
   "metadata": {},
   "outputs": [
    {
     "name": "stdout",
     "output_type": "stream",
     "text": [
      "Epoch 1/20\n",
      "429/429 [==============================] - 41s 95ms/step - loss: 0.7283 - accuracy: 0.7316 - val_loss: 0.4490 - val_accuracy: 0.8410\n",
      "Epoch 2/20\n",
      "429/429 [==============================] - 45s 105ms/step - loss: 0.5516 - accuracy: 0.7938 - val_loss: 0.5416 - val_accuracy: 0.8021\n",
      "Epoch 3/20\n",
      "429/429 [==============================] - 42s 98ms/step - loss: 0.4945 - accuracy: 0.8140 - val_loss: 0.4666 - val_accuracy: 0.8362\n",
      "Epoch 4/20\n",
      "429/429 [==============================] - 40s 94ms/step - loss: 0.4697 - accuracy: 0.8230 - val_loss: 0.3597 - val_accuracy: 0.8692\n",
      "Epoch 5/20\n",
      "429/429 [==============================] - 40s 93ms/step - loss: 0.4431 - accuracy: 0.8343 - val_loss: 0.3685 - val_accuracy: 0.8633\n",
      "Epoch 6/20\n",
      "429/429 [==============================] - 40s 94ms/step - loss: 0.4257 - accuracy: 0.8400 - val_loss: 0.3593 - val_accuracy: 0.8690\n",
      "Epoch 7/20\n",
      "429/429 [==============================] - 40s 94ms/step - loss: 0.4121 - accuracy: 0.8455 - val_loss: 0.3842 - val_accuracy: 0.8646\n",
      "Epoch 8/20\n",
      "429/429 [==============================] - 41s 95ms/step - loss: 0.4025 - accuracy: 0.8499 - val_loss: 0.3282 - val_accuracy: 0.8823\n",
      "Epoch 9/20\n",
      "429/429 [==============================] - 41s 95ms/step - loss: 0.3939 - accuracy: 0.8540 - val_loss: 0.3617 - val_accuracy: 0.8731\n",
      "Epoch 10/20\n",
      "429/429 [==============================] - 41s 95ms/step - loss: 0.3834 - accuracy: 0.8573 - val_loss: 0.2873 - val_accuracy: 0.8954\n",
      "Epoch 11/20\n",
      "429/429 [==============================] - 41s 95ms/step - loss: 0.3723 - accuracy: 0.8611 - val_loss: 0.3433 - val_accuracy: 0.8790\n",
      "Epoch 12/20\n",
      "429/429 [==============================] - 41s 95ms/step - loss: 0.3676 - accuracy: 0.8635 - val_loss: 0.3856 - val_accuracy: 0.8562\n",
      "Epoch 13/20\n",
      "429/429 [==============================] - 41s 95ms/step - loss: 0.3608 - accuracy: 0.8657 - val_loss: 0.3474 - val_accuracy: 0.8744\n",
      "Epoch 14/20\n",
      "429/429 [==============================] - 41s 96ms/step - loss: 0.3567 - accuracy: 0.8671 - val_loss: 0.2837 - val_accuracy: 0.8985\n",
      "Epoch 15/20\n",
      "429/429 [==============================] - 41s 96ms/step - loss: 0.3544 - accuracy: 0.8679 - val_loss: 0.3200 - val_accuracy: 0.8805\n",
      "Epoch 16/20\n",
      "429/429 [==============================] - 41s 96ms/step - loss: 0.3494 - accuracy: 0.8697 - val_loss: 0.3323 - val_accuracy: 0.8779\n",
      "Epoch 17/20\n",
      "429/429 [==============================] - 41s 96ms/step - loss: 0.3432 - accuracy: 0.8715 - val_loss: 0.3185 - val_accuracy: 0.8923\n",
      "Epoch 18/20\n",
      "429/429 [==============================] - 39s 90ms/step - loss: 0.3386 - accuracy: 0.8741 - val_loss: 0.2676 - val_accuracy: 0.9021\n",
      "Epoch 19/20\n",
      "429/429 [==============================] - 39s 90ms/step - loss: 0.3367 - accuracy: 0.8750 - val_loss: 0.3615 - val_accuracy: 0.8749\n",
      "Epoch 20/20\n",
      "429/429 [==============================] - 39s 90ms/step - loss: 0.3319 - accuracy: 0.8767 - val_loss: 0.2473 - val_accuracy: 0.9079\n",
      "CPU times: user 1h 1min 34s, sys: 11min 29s, total: 1h 13min 3s\n",
      "Wall time: 13min 36s\n"
     ]
    }
   ],
   "source": [
    "%%time\n",
    "\n",
    "no_of_epochs = 20\n",
    "history = model.fit(X_train_cropped, \n",
    "                    steps_per_epoch=len(X_train) // size_of_mini_batch,\n",
    "                    epochs=no_of_epochs, \n",
    "                    verbose=1,\n",
    "                    validation_data=(X_valid_datagen),\n",
    "                    validation_steps=len(X_valid) // validation_size_of_mini_batch)"
   ]
  },
  {
   "cell_type": "markdown",
   "metadata": {},
   "source": [
    "## Evaluate the Model on Test Data"
   ]
  },
  {
   "cell_type": "code",
   "execution_count": 7,
   "metadata": {},
   "outputs": [
    {
     "name": "stdout",
     "output_type": "stream",
     "text": [
      "Epochs:  20\n",
      "\n",
      "Test Accuracy: 0.895\n",
      "Test Loss: 0.285\n",
      "\n",
      "Train Accuracy: 0.907\n",
      "Train Loss: 0.251\n",
      "\n",
      "Test Confusion Matrix:\n",
      "[[855   2   9   9   4   0 111   0  10   0]\n",
      " [  0 983   2   8   2   0   2   0   3   0]\n",
      " [ 29   0 871   8  46   0  42   0   4   0]\n",
      " [ 66   6   8 817  13   0  87   0   3   0]\n",
      " [ 11   0  40  39 822   0  85   0   3   0]\n",
      " [  0   0   0   0   0 974   0  22   0   4]\n",
      " [109   1  76  16  77   0 709   0  12   0]\n",
      " [  0   0   0   0   0   9   0 964   0  27]\n",
      " [  0   0   0   3   0   1   1   1 993   1]\n",
      " [  0   0   0   0   0   4   0  33   1 962]]\n"
     ]
    }
   ],
   "source": [
    "numOfEpochs = len(history.history['loss'])\n",
    "print(\"Epochs: \", numOfEpochs)\n",
    "\n",
    "test_loss, test_accuracy = model.evaluate(X_test, y_test, verbose=0)\n",
    "\n",
    "print(\"\\nTest Accuracy: {:.3f}\".format(test_accuracy))\n",
    "print(\"Test Loss: {:.3f}\".format(test_loss))\n",
    "\n",
    "train_loss, train_accuracy = model.evaluate(X_train, y_train, verbose=0)\n",
    "\n",
    "print(\"\\nTrain Accuracy: {:.3f}\".format(train_accuracy))\n",
    "print(\"Train Loss: {:.3f}\".format(train_loss))\n",
    "\n",
    "# model.predict(X_test) method return 10 probabilities per class for each instance (Dimension Nx10)\n",
    "y_test_predicted = model.predict(X_test)\n",
    "y_test_predicted_highest_proba = np.argmax(y_test_predicted, axis=1) # get the label/index of the highest probability class\n",
    "\n",
    "# get the label/index of the highest probability class\n",
    "y_test_highest_proba = np.argmax(y_test, axis=1) \n",
    "\n",
    "print(\"\\nTest Confusion Matrix:\")\n",
    "print(confusion_matrix(y_test_highest_proba, y_test_predicted_highest_proba))"
   ]
  },
  {
   "cell_type": "markdown",
   "metadata": {},
   "source": [
    "## Plot Learning Curves"
   ]
  },
  {
   "cell_type": "code",
   "execution_count": 8,
   "metadata": {},
   "outputs": [
    {
     "data": {
      "image/png": "[encoded data removed]",
      "text/plain": [
       "<Figure size 1296x432 with 2 Axes>"
      ]
     },
     "metadata": {
      "needs_background": "light"
     },
     "output_type": "display_data"
    }
   ],
   "source": [
    "plt.figure(figsize=(18,6))\n",
    "\n",
    "plt.subplot(121)\n",
    "plt.plot(range(1,numOfEpochs+1),history.history['val_accuracy'],label='validation')\n",
    "plt.plot(range(1,numOfEpochs+1),history.history['accuracy'],label='training')\n",
    "plt.legend(loc=0)\n",
    "plt.xlabel('Epochs')\n",
    "plt.ylabel('Accuracy')\n",
    "plt.xlim([1,numOfEpochs])\n",
    "plt.grid(True)\n",
    "plt.title(\"Model Accuracy\")\n",
    "\n",
    "plt.subplot(122)\n",
    "plt.plot(range(1,numOfEpochs+1),history.history['val_loss'],label='validation')\n",
    "plt.plot(range(1,numOfEpochs+1),history.history['loss'],label='training')\n",
    "plt.legend(loc=0)\n",
    "plt.xlabel('Epochs')\n",
    "plt.ylabel('Loss')\n",
    "plt.xlim([1,numOfEpochs])\n",
    "plt.grid(True)\n",
    "plt.title(\"Model Loss\")\n",
    "\n",
    "plt.show()"
   ]
  }
 ],
 "metadata": {
  "kernelspec": {
   "display_name": "Python 3",
   "language": "python",
   "name": "python3"
  },
  "language_info": {
   "codemirror_mode": {
    "name": "ipython",
    "version": 3
   },
   "file_extension": ".py",
   "mimetype": "text/x-python",
   "name": "python",
   "nbconvert_exporter": "python",
   "pygments_lexer": "ipython3",
   "version": "3.7.3"
  }
 },
 "nbformat": 4,
 "nbformat_minor": 2
}
