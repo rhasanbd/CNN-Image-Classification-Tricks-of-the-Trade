{
 "cells": [
  {
   "cell_type": "markdown",
   "metadata": {},
   "source": [
    "# Image Classification using CNN - Horizontal Flip\n",
    "\n",
    "In this notebook, we perform classification of the MNIST Fashion dataset. We train the model with augmented data. We perform horizontal flip augmentation.\n",
    "\n",
    "\n",
    "### CNN Architecture\n",
    "\n",
    "We build a 4-hidden layer CNN model:\n",
    "- 3 Convolutional layers and 1 Fully-Connected (dense) layer\n",
    "\n",
    "\n",
    "### Regularization\n",
    "To reduce overfitting, we use data augmentation based regularization. We perform:\n",
    "- Horizontal flip\n",
    "\n",
    "Refer to the following notebook to learn how to use Keras' ImageDataGenerator class to perform data augmentation.\n",
    "https://github.com/rhasanbd/Data-Augmentation/blob/main/Keras-Data%20Augmentation.ipynb\n",
    "\n",
    "\n",
    "### Overcome Vanishing Gradient Problem\n",
    "We use Batch Normalization to overcome the vanishing gradient problem."
   ]
  },
  {
   "cell_type": "code",
   "execution_count": 1,
   "metadata": {},
   "outputs": [],
   "source": [
    "import numpy as np\n",
    "import matplotlib.pyplot as plt\n",
    "\n",
    "from sklearn.metrics import confusion_matrix\n",
    "\n",
    "import tensorflow as tf\n",
    "from tensorflow import keras\n",
    "from tensorflow.keras.preprocessing.image import ImageDataGenerator\n",
    "\n",
    "from keras.utils.np_utils import to_categorical \n",
    "\n",
    "from tensorflow.keras.models import Sequential\n",
    "from tensorflow.keras.layers import Activation\n",
    "from tensorflow.keras.layers import Conv2D\n",
    "from tensorflow.keras.layers import MaxPooling2D\n",
    "from tensorflow.keras.layers import Dense\n",
    "from tensorflow.keras.layers import Flatten\n",
    "from tensorflow.keras.layers import Dropout\n",
    "from tensorflow.keras.layers import BatchNormalization"
   ]
  },
  {
   "cell_type": "markdown",
   "metadata": {},
   "source": [
    "## Load & Preprocess Data"
   ]
  },
  {
   "cell_type": "code",
   "execution_count": 2,
   "metadata": {},
   "outputs": [
    {
     "name": "stdout",
     "output_type": "stream",
     "text": [
      "\n",
      "Shape of Training Samples:  (55000, 28, 28, 1)\n",
      "Shape of Training Labels:  (55000, 10)\n",
      "\n",
      "Shape of Validation Samples:  (5000, 28, 28, 1)\n",
      "Shape of Validation Labels:  (5000, 10)\n",
      "\n",
      "Shape of Testing Samples:  (10000, 28, 28, 1)\n",
      "Shape of Testing Labels:  (10000, 10)\n",
      "\n",
      "Data type:  float32\n",
      "Label type:  float32\n"
     ]
    }
   ],
   "source": [
    "(X_train_full, y_train_full), (X_test, y_test) = keras.datasets.fashion_mnist.load_data()\n",
    "\n",
    "\n",
    "# Split the training set into training & validation subsets\n",
    "X_train = X_train_full[5000:]\n",
    "y_train = y_train_full[5000:]\n",
    "X_valid = X_train_full[:5000]\n",
    "y_valid = y_train_full[:5000]\n",
    "\n",
    "\n",
    "# The data must be a 4D tensor: sample size, height, width, channels\n",
    "# Add a single channel for the grayscale images (for RGB images this step is not required)\n",
    "X_train = X_train.reshape((X_train.shape[0], 28, 28, 1))\n",
    "X_valid = X_valid.reshape((X_valid.shape[0], 28, 28, 1))\n",
    "X_test = X_test.reshape((X_test.shape[0], 28, 28, 1))\n",
    "\n",
    "\n",
    "# Convert datatype to float32\n",
    "X_train = X_train.astype('float32')\n",
    "X_valid = X_valid.astype('float32')\n",
    "X_test = X_test.astype('float32')\n",
    "\n",
    "\n",
    "# Scale the data\n",
    "X_train = X_train/255.0\n",
    "X_valid = X_valid/255.0\n",
    "X_test = X_test/255.0\n",
    "\n",
    "\n",
    "# One-hot encode the labels\n",
    "y_train = to_categorical(y_train, 10)\n",
    "y_valid = to_categorical(y_valid, 10)\n",
    "y_test = to_categorical(y_test, 10)\n",
    "\n",
    "\n",
    "print(\"\\nShape of Training Samples: \", X_train.shape)\n",
    "print(\"Shape of Training Labels: \", y_train.shape)\n",
    "\n",
    "print(\"\\nShape of Validation Samples: \", X_valid.shape)\n",
    "print(\"Shape of Validation Labels: \", y_valid.shape)\n",
    "\n",
    "print(\"\\nShape of Testing Samples: \", X_test.shape)\n",
    "print(\"Shape of Testing Labels: \", y_test.shape)\n",
    "\n",
    "print(\"\\nData type: \", X_train.dtype)\n",
    "print(\"Label type: \", y_train.dtype)"
   ]
  },
  {
   "cell_type": "markdown",
   "metadata": {},
   "source": [
    "## Data Augmentation\n",
    "\n",
    "We perform following data augmentation on the training data.\n",
    "- Horizontal flip"
   ]
  },
  {
   "cell_type": "markdown",
   "metadata": {},
   "source": [
    "## Data Augmentation Generator"
   ]
  },
  {
   "cell_type": "code",
   "execution_count": 3,
   "metadata": {},
   "outputs": [
    {
     "name": "stdout",
     "output_type": "stream",
     "text": [
      "CPU times: user 144 ms, sys: 158 ms, total: 302 ms\n",
      "Wall time: 92.9 ms\n"
     ]
    }
   ],
   "source": [
    "%%time\n",
    "\n",
    "size_of_mini_batch = 128\n",
    "crop_length = 28\n",
    "\n",
    "'''\n",
    "Augment training data\n",
    "- Resize: add 4 pixels so that after random cropping image shape is back to 32 x 32\n",
    "- Rotation\n",
    "- Zoom\n",
    "- Horizontal flip\n",
    "'''\n",
    "#X_train_resize = tf.image.resize(X_train, [32, 32], method='nearest', preserve_aspect_ratio=True)\n",
    "\n",
    "train_datagen = ImageDataGenerator(\n",
    "    featurewise_center=False,  # set input mean to 0 over the dataset\n",
    "    samplewise_center=False,  # set each sample mean to 0\n",
    "    featurewise_std_normalization=False,  # divide inputs by std of the dataset\n",
    "    samplewise_std_normalization=False,  # divide each input by its std\n",
    "    zca_whitening=False,  # apply ZCA whitening\n",
    "    zoom_range=0,\n",
    "    rotation_range=0,  # randomly rotate images in the range (degrees, 0 to 180)\n",
    "    width_shift_range=0,  # randomly shift images horizontally (fraction of total width)\n",
    "    height_shift_range=0,  # randomly shift images vertically (fraction of total height)\n",
    "    horizontal_flip=True,  # randomly flip images\n",
    "    vertical_flip=False)  # randomly flip images\n",
    "    \n",
    "\n",
    "train_datagen.fit(X_train)\n",
    "X_train_datagen = train_datagen.flow(x=X_train, y=y_train, batch_size=size_of_mini_batch)\n",
    "\n",
    "\n",
    "\n",
    "\n",
    "'''\n",
    "Create an ImageDataGenerator object for the validation data.\n",
    "However, validation data should not be augmented.\n",
    "'''\n",
    "\n",
    "validation_size_of_mini_batch = 100\n",
    "\n",
    "valid_datagen = ImageDataGenerator()\n",
    "valid_datagen.fit(X_valid)\n",
    "X_valid_datagen = valid_datagen.flow(x=X_valid, y=y_valid, batch_size=validation_size_of_mini_batch)"
   ]
  },
  {
   "cell_type": "markdown",
   "metadata": {},
   "source": [
    "## Create the CNN Model\n",
    "\n",
    "We apply the batch normalization (BN) layer before activation. There is no need to use bias neurons in the Convolutional layers (set the use_bias to False). Because the Conv layer is followed by a BN layer that adds a bias. The BN \"shift\" parameter shifts the output of the layer (thus acts like a bias). "
   ]
  },
  {
   "cell_type": "code",
   "execution_count": 4,
   "metadata": {},
   "outputs": [
    {
     "name": "stdout",
     "output_type": "stream",
     "text": [
      "Model: \"sequential\"\n",
      "_________________________________________________________________\n",
      "Layer (type)                 Output Shape              Param #   \n",
      "=================================================================\n",
      "conv2d (Conv2D)              (None, 28, 28, 32)        288       \n",
      "_________________________________________________________________\n",
      "batch_normalization (BatchNo (None, 28, 28, 32)        128       \n",
      "_________________________________________________________________\n",
      "activation (Activation)      (None, 28, 28, 32)        0         \n",
      "_________________________________________________________________\n",
      "max_pooling2d (MaxPooling2D) (None, 14, 14, 32)        0         \n",
      "_________________________________________________________________\n",
      "conv2d_1 (Conv2D)            (None, 14, 14, 64)        18432     \n",
      "_________________________________________________________________\n",
      "batch_normalization_1 (Batch (None, 14, 14, 64)        256       \n",
      "_________________________________________________________________\n",
      "activation_1 (Activation)    (None, 14, 14, 64)        0         \n",
      "_________________________________________________________________\n",
      "max_pooling2d_1 (MaxPooling2 (None, 7, 7, 64)          0         \n",
      "_________________________________________________________________\n",
      "conv2d_2 (Conv2D)            (None, 7, 7, 64)          36864     \n",
      "_________________________________________________________________\n",
      "batch_normalization_2 (Batch (None, 7, 7, 64)          256       \n",
      "_________________________________________________________________\n",
      "activation_2 (Activation)    (None, 7, 7, 64)          0         \n",
      "_________________________________________________________________\n",
      "flatten (Flatten)            (None, 3136)              0         \n",
      "_________________________________________________________________\n",
      "dense (Dense)                (None, 128)               401536    \n",
      "_________________________________________________________________\n",
      "batch_normalization_3 (Batch (None, 128)               512       \n",
      "_________________________________________________________________\n",
      "activation_3 (Activation)    (None, 128)               0         \n",
      "_________________________________________________________________\n",
      "dense_1 (Dense)              (None, 10)                1290      \n",
      "=================================================================\n",
      "Total params: 459,562\n",
      "Trainable params: 458,986\n",
      "Non-trainable params: 576\n",
      "_________________________________________________________________\n",
      "CPU times: user 558 ms, sys: 56.2 ms, total: 614 ms\n",
      "Wall time: 268 ms\n"
     ]
    }
   ],
   "source": [
    "%%time\n",
    "\n",
    "'''\n",
    "Delete the TensorFlow graph before creating a new model, otherwise memory overflow will occur.\n",
    "'''\n",
    "keras.backend.clear_session()\n",
    "\n",
    "'''\n",
    "To reproduce the same result by the model in each iteration, we use fixed seeds for random number generation. \n",
    "'''\n",
    "np.random.seed(42)\n",
    "tf.random.set_seed(42)\n",
    "\n",
    "\n",
    "'''\n",
    "Create a Sequential model composed of a single stack of layers connected sequentially. \n",
    "'''\n",
    "initializer = 'he_normal'\n",
    "activation_func = 'relu'\n",
    "\n",
    "\n",
    "model = Sequential()\n",
    "model.add(Conv2D(32, (3, 3), kernel_initializer=initializer, padding='same', use_bias=False, \n",
    "                 input_shape=(28, 28, 1)))\n",
    "model.add(BatchNormalization())\n",
    "model.add(Activation(activation_func))\n",
    "model.add(MaxPooling2D((2, 2)))\n",
    "\n",
    "model.add(Conv2D(64, (3, 3), kernel_initializer=initializer, padding='same', use_bias=False))\n",
    "model.add(BatchNormalization())\n",
    "model.add(Activation(activation_func))\n",
    "model.add(MaxPooling2D((2, 2)))\n",
    "\n",
    "model.add(Conv2D(64, (3, 3), kernel_initializer=initializer, padding='same', use_bias=False))\n",
    "model.add(BatchNormalization())\n",
    "model.add(Activation(activation_func))\n",
    "model.add(Flatten())\n",
    "\n",
    "model.add(Dense(128, kernel_initializer=initializer))\n",
    "model.add(BatchNormalization())\n",
    "model.add(Activation(activation_func))\n",
    "model.add(Dense(10, activation='softmax'))\n",
    "\n",
    "\n",
    "'''\n",
    "Compile the model\n",
    "'''\n",
    "model.compile(loss=\"categorical_crossentropy\",\n",
    "              optimizer='adam',\n",
    "              metrics=[\"accuracy\"])\n",
    "\n",
    "model.summary()"
   ]
  },
  {
   "cell_type": "markdown",
   "metadata": {},
   "source": [
    "## Train the Model"
   ]
  },
  {
   "cell_type": "code",
   "execution_count": 5,
   "metadata": {},
   "outputs": [
    {
     "name": "stdout",
     "output_type": "stream",
     "text": [
      "Epoch 1/20\n",
      "429/429 [==============================] - 40s 93ms/step - loss: 0.3647 - accuracy: 0.8705 - val_loss: 0.3103 - val_accuracy: 0.8812\n",
      "Epoch 2/20\n",
      "429/429 [==============================] - 42s 99ms/step - loss: 0.2417 - accuracy: 0.9127 - val_loss: 0.2729 - val_accuracy: 0.8998\n",
      "Epoch 3/20\n",
      "429/429 [==============================] - 45s 104ms/step - loss: 0.2036 - accuracy: 0.9265 - val_loss: 0.2576 - val_accuracy: 0.9012\n",
      "Epoch 4/20\n",
      "429/429 [==============================] - 41s 95ms/step - loss: 0.1824 - accuracy: 0.9343 - val_loss: 0.2359 - val_accuracy: 0.9128\n",
      "Epoch 5/20\n",
      "429/429 [==============================] - 40s 94ms/step - loss: 0.1597 - accuracy: 0.9424 - val_loss: 0.2238 - val_accuracy: 0.9154\n",
      "Epoch 6/20\n",
      "429/429 [==============================] - 38s 88ms/step - loss: 0.1414 - accuracy: 0.9478 - val_loss: 0.2122 - val_accuracy: 0.9260\n",
      "Epoch 7/20\n",
      "429/429 [==============================] - 38s 88ms/step - loss: 0.1276 - accuracy: 0.9537 - val_loss: 0.2117 - val_accuracy: 0.9282\n",
      "Epoch 8/20\n",
      "429/429 [==============================] - 37s 85ms/step - loss: 0.1147 - accuracy: 0.9583 - val_loss: 0.2037 - val_accuracy: 0.9240\n",
      "Epoch 9/20\n",
      "429/429 [==============================] - 37s 85ms/step - loss: 0.1009 - accuracy: 0.9640 - val_loss: 0.2173 - val_accuracy: 0.9270\n",
      "Epoch 10/20\n",
      "429/429 [==============================] - 37s 85ms/step - loss: 0.0904 - accuracy: 0.9675 - val_loss: 0.2229 - val_accuracy: 0.9276\n",
      "Epoch 11/20\n",
      "429/429 [==============================] - 38s 89ms/step - loss: 0.0815 - accuracy: 0.9708 - val_loss: 0.2329 - val_accuracy: 0.9236\n",
      "Epoch 12/20\n",
      "429/429 [==============================] - 37s 86ms/step - loss: 0.0717 - accuracy: 0.9746 - val_loss: 0.2328 - val_accuracy: 0.9250\n",
      "Epoch 13/20\n",
      "429/429 [==============================] - 37s 86ms/step - loss: 0.0653 - accuracy: 0.9766 - val_loss: 0.2527 - val_accuracy: 0.9198\n",
      "Epoch 14/20\n",
      "429/429 [==============================] - 36s 85ms/step - loss: 0.0563 - accuracy: 0.9806 - val_loss: 0.2334 - val_accuracy: 0.9294\n",
      "Epoch 15/20\n",
      "429/429 [==============================] - 37s 86ms/step - loss: 0.0512 - accuracy: 0.9817 - val_loss: 0.2692 - val_accuracy: 0.9236\n",
      "Epoch 16/20\n",
      "429/429 [==============================] - 39s 90ms/step - loss: 0.0493 - accuracy: 0.9825 - val_loss: 0.2705 - val_accuracy: 0.9268\n",
      "Epoch 17/20\n",
      "429/429 [==============================] - 38s 88ms/step - loss: 0.0442 - accuracy: 0.9843 - val_loss: 0.2636 - val_accuracy: 0.9238\n",
      "Epoch 18/20\n",
      "429/429 [==============================] - 37s 87ms/step - loss: 0.0392 - accuracy: 0.9867 - val_loss: 0.2973 - val_accuracy: 0.9152\n",
      "Epoch 19/20\n",
      "429/429 [==============================] - 41s 94ms/step - loss: 0.0374 - accuracy: 0.9866 - val_loss: 0.2562 - val_accuracy: 0.9298\n",
      "Epoch 20/20\n",
      "429/429 [==============================] - 38s 90ms/step - loss: 0.0327 - accuracy: 0.9885 - val_loss: 0.3007 - val_accuracy: 0.9198\n",
      "CPU times: user 55min 42s, sys: 8min 3s, total: 1h 3min 46s\n",
      "Wall time: 12min 54s\n"
     ]
    }
   ],
   "source": [
    "%%time\n",
    "\n",
    "no_of_epochs = 20\n",
    "history = model.fit(X_train_datagen, \n",
    "                    steps_per_epoch=len(X_train) // size_of_mini_batch,\n",
    "                    epochs=no_of_epochs, \n",
    "                    verbose=1,\n",
    "                    validation_data=(X_valid_datagen),\n",
    "                    validation_steps=len(X_valid) // validation_size_of_mini_batch)"
   ]
  },
  {
   "cell_type": "markdown",
   "metadata": {},
   "source": [
    "## Evaluate the Model on Test Data"
   ]
  },
  {
   "cell_type": "code",
   "execution_count": 6,
   "metadata": {},
   "outputs": [
    {
     "name": "stdout",
     "output_type": "stream",
     "text": [
      "Epochs:  20\n",
      "\n",
      "Test Accuracy: 0.913\n",
      "Test Loss: 0.348\n",
      "\n",
      "Train Accuracy: 0.980\n",
      "Train Loss: 0.055\n",
      "\n",
      "Test Confusion Matrix:\n",
      "[[802   0  32  27   4   0 132   0   3   0]\n",
      " [  0 980   0  11   6   0   2   0   1   0]\n",
      " [  5   0 824   9  92   0  70   0   0   0]\n",
      " [  3   2  11 942  19   0  21   0   2   0]\n",
      " [  1   0  17  29 905   0  48   0   0   0]\n",
      " [  1   0   1   0   1 961   0  29   0   7]\n",
      " [ 57   1  49  24  71   0 796   0   2   0]\n",
      " [  0   0   0   0   1   2   0 978   0  19]\n",
      " [  1   2   2   5   3   0   5   3 978   1]\n",
      " [  0   0   1   1   1   3   2  25   0 967]]\n"
     ]
    }
   ],
   "source": [
    "numOfEpochs = len(history.history['loss'])\n",
    "print(\"Epochs: \", numOfEpochs)\n",
    "\n",
    "test_loss, test_accuracy = model.evaluate(X_test, y_test, verbose=0)\n",
    "\n",
    "print(\"\\nTest Accuracy: {:.3f}\".format(test_accuracy))\n",
    "print(\"Test Loss: {:.3f}\".format(test_loss))\n",
    "\n",
    "train_loss, train_accuracy = model.evaluate(X_train, y_train, verbose=0)\n",
    "\n",
    "print(\"\\nTrain Accuracy: {:.3f}\".format(train_accuracy))\n",
    "print(\"Train Loss: {:.3f}\".format(train_loss))\n",
    "\n",
    "# model.predict(X_test) method return 10 probabilities per class for each instance (Dimension Nx10)\n",
    "y_test_predicted = model.predict(X_test)\n",
    "y_test_predicted_highest_proba = np.argmax(y_test_predicted, axis=1) # get the label/index of the highest probability class\n",
    "\n",
    "# get the label/index of the highest probability class\n",
    "y_test_highest_proba = np.argmax(y_test, axis=1) \n",
    "\n",
    "print(\"\\nTest Confusion Matrix:\")\n",
    "print(confusion_matrix(y_test_highest_proba, y_test_predicted_highest_proba))"
   ]
  },
  {
   "cell_type": "markdown",
   "metadata": {},
   "source": [
    "## Plot Learning Curves"
   ]
  },
  {
   "cell_type": "code",
   "execution_count": 7,
   "metadata": {},
   "outputs": [
    {
     "data": {
      "image/png": "[encoded data removed]",
      "text/plain": [
       "<Figure size 1296x432 with 2 Axes>"
      ]
     },
     "metadata": {
      "needs_background": "light"
     },
     "output_type": "display_data"
    }
   ],
   "source": [
    "plt.figure(figsize=(18,6))\n",
    "\n",
    "plt.subplot(121)\n",
    "plt.plot(range(1,numOfEpochs+1),history.history['val_accuracy'],label='validation')\n",
    "plt.plot(range(1,numOfEpochs+1),history.history['accuracy'],label='training')\n",
    "plt.legend(loc=0)\n",
    "plt.xlabel('Epochs')\n",
    "plt.ylabel('Accuracy')\n",
    "plt.xlim([1,numOfEpochs])\n",
    "plt.grid(True)\n",
    "plt.title(\"Model Accuracy\")\n",
    "\n",
    "plt.subplot(122)\n",
    "plt.plot(range(1,numOfEpochs+1),history.history['val_loss'],label='validation')\n",
    "plt.plot(range(1,numOfEpochs+1),history.history['loss'],label='training')\n",
    "plt.legend(loc=0)\n",
    "plt.xlabel('Epochs')\n",
    "plt.ylabel('Loss')\n",
    "plt.xlim([1,numOfEpochs])\n",
    "plt.grid(True)\n",
    "plt.title(\"Model Loss\")\n",
    "\n",
    "plt.show()"
   ]
  }
 ],
 "metadata": {
  "kernelspec": {
   "display_name": "Python 3",
   "language": "python",
   "name": "python3"
  },
  "language_info": {
   "codemirror_mode": {
    "name": "ipython",
    "version": 3
   },
   "file_extension": ".py",
   "mimetype": "text/x-python",
   "name": "python",
   "nbconvert_exporter": "python",
   "pygments_lexer": "ipython3",
   "version": "3.7.3"
  }
 },
 "nbformat": 4,
 "nbformat_minor": 2
}
