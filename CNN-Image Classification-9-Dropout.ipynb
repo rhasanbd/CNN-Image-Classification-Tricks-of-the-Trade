{
 "cells": [
  {
   "cell_type": "markdown",
   "metadata": {},
   "source": [
    "# Image Classification using CNN - Dropout\n",
    "In this notebook, we perform classification of the MNIST Fashion dataset with **dropout** regularization. \n",
    "\n",
    "### CNN Architecture\n",
    "\n",
    "We build a 4-hidden layer CNN model:\n",
    "- 3 Convolutional layers and 1 Fully-Connected (dense) layer\n",
    "\n",
    "### Regularization\n",
    "The dropout layer is applied to all 4 hidden layers with dropout rates 0.2, 0.3, 0.4, 0.5\n",
    "\n",
    "### Overcome Vanishing Gradient Problem\n",
    "We use Batch Normalization to overcome the vanishing gradient problem."
   ]
  },
  {
   "cell_type": "code",
   "execution_count": 1,
   "metadata": {},
   "outputs": [],
   "source": [
    "import numpy as np\n",
    "import matplotlib.pyplot as plt\n",
    "\n",
    "from sklearn.metrics import confusion_matrix\n",
    "\n",
    "import tensorflow as tf\n",
    "from tensorflow import keras\n",
    "from tensorflow.keras.preprocessing.image import ImageDataGenerator\n",
    "\n",
    "from keras.utils.np_utils import to_categorical \n",
    "\n",
    "from tensorflow.keras.models import Sequential\n",
    "from tensorflow.keras.layers import Activation\n",
    "from tensorflow.keras.layers import Conv2D\n",
    "from tensorflow.keras.layers import MaxPooling2D\n",
    "from tensorflow.keras.layers import Dense\n",
    "from tensorflow.keras.layers import Flatten\n",
    "from tensorflow.keras.layers import Dropout\n",
    "from tensorflow.keras.layers import BatchNormalization"
   ]
  },
  {
   "cell_type": "markdown",
   "metadata": {},
   "source": [
    "## Load & Preprocess Data"
   ]
  },
  {
   "cell_type": "code",
   "execution_count": 2,
   "metadata": {},
   "outputs": [
    {
     "name": "stdout",
     "output_type": "stream",
     "text": [
      "\n",
      "Shape of Training Samples:  (55000, 28, 28, 1)\n",
      "Shape of Training Labels:  (55000, 10)\n",
      "\n",
      "Shape of Validation Samples:  (5000, 28, 28, 1)\n",
      "Shape of Validation Labels:  (5000, 10)\n",
      "\n",
      "Shape of Testing Samples:  (10000, 28, 28, 1)\n",
      "Shape of Testing Labels:  (10000, 10)\n",
      "\n",
      "Data type:  float32\n",
      "Label type:  float32\n"
     ]
    }
   ],
   "source": [
    "(X_train_full, y_train_full), (X_test, y_test) = keras.datasets.fashion_mnist.load_data()\n",
    "\n",
    "\n",
    "# Split the training set into training & validation subsets\n",
    "X_train = X_train_full[5000:]\n",
    "y_train = y_train_full[5000:]\n",
    "X_valid = X_train_full[:5000]\n",
    "y_valid = y_train_full[:5000]\n",
    "\n",
    "\n",
    "# The data must be a 4D tensor: sample size, height, width, channels\n",
    "# Add a single channel for the grayscale images (for RGB images this step is not required)\n",
    "X_train = X_train.reshape((X_train.shape[0], 28, 28, 1))\n",
    "X_valid = X_valid.reshape((X_valid.shape[0], 28, 28, 1))\n",
    "X_test = X_test.reshape((X_test.shape[0], 28, 28, 1))\n",
    "\n",
    "\n",
    "# Convert datatype to float32\n",
    "X_train = X_train.astype('float32')\n",
    "X_valid = X_valid.astype('float32')\n",
    "X_test = X_test.astype('float32')\n",
    "\n",
    "\n",
    "# Scale the data\n",
    "X_train = X_train/255.0\n",
    "X_valid = X_valid/255.0\n",
    "X_test = X_test/255.0\n",
    "\n",
    "\n",
    "# One-hot encode the labels\n",
    "y_train = to_categorical(y_train, 10)\n",
    "y_valid = to_categorical(y_valid, 10)\n",
    "y_test = to_categorical(y_test, 10)\n",
    "\n",
    "\n",
    "print(\"\\nShape of Training Samples: \", X_train.shape)\n",
    "print(\"Shape of Training Labels: \", y_train.shape)\n",
    "\n",
    "print(\"\\nShape of Validation Samples: \", X_valid.shape)\n",
    "print(\"Shape of Validation Labels: \", y_valid.shape)\n",
    "\n",
    "print(\"\\nShape of Testing Samples: \", X_test.shape)\n",
    "print(\"Shape of Testing Labels: \", y_test.shape)\n",
    "\n",
    "print(\"\\nData type: \", X_train.dtype)\n",
    "print(\"Label type: \", y_train.dtype)"
   ]
  },
  {
   "cell_type": "markdown",
   "metadata": {},
   "source": [
    "## Create the CNN Model\n",
    "\n",
    "We apply the batch normalization (BN) layer before activation. There is no need to use bias neurons in the Convolutional layers (set the use_bias to False). Because the Conv layer is followed by a BN layer that adds a bias. The BN \"shift\" parameter shifts the output of the layer (thus acts like a bias). "
   ]
  },
  {
   "cell_type": "code",
   "execution_count": 3,
   "metadata": {},
   "outputs": [
    {
     "name": "stdout",
     "output_type": "stream",
     "text": [
      "Model: \"sequential\"\n",
      "_________________________________________________________________\n",
      "Layer (type)                 Output Shape              Param #   \n",
      "=================================================================\n",
      "conv2d (Conv2D)              (None, 28, 28, 32)        288       \n",
      "_________________________________________________________________\n",
      "batch_normalization (BatchNo (None, 28, 28, 32)        128       \n",
      "_________________________________________________________________\n",
      "activation (Activation)      (None, 28, 28, 32)        0         \n",
      "_________________________________________________________________\n",
      "max_pooling2d (MaxPooling2D) (None, 14, 14, 32)        0         \n",
      "_________________________________________________________________\n",
      "dropout (Dropout)            (None, 14, 14, 32)        0         \n",
      "_________________________________________________________________\n",
      "conv2d_1 (Conv2D)            (None, 14, 14, 64)        18432     \n",
      "_________________________________________________________________\n",
      "batch_normalization_1 (Batch (None, 14, 14, 64)        256       \n",
      "_________________________________________________________________\n",
      "activation_1 (Activation)    (None, 14, 14, 64)        0         \n",
      "_________________________________________________________________\n",
      "max_pooling2d_1 (MaxPooling2 (None, 7, 7, 64)          0         \n",
      "_________________________________________________________________\n",
      "dropout_1 (Dropout)          (None, 7, 7, 64)          0         \n",
      "_________________________________________________________________\n",
      "conv2d_2 (Conv2D)            (None, 7, 7, 64)          36864     \n",
      "_________________________________________________________________\n",
      "batch_normalization_2 (Batch (None, 7, 7, 64)          256       \n",
      "_________________________________________________________________\n",
      "activation_2 (Activation)    (None, 7, 7, 64)          0         \n",
      "_________________________________________________________________\n",
      "dropout_2 (Dropout)          (None, 7, 7, 64)          0         \n",
      "_________________________________________________________________\n",
      "flatten (Flatten)            (None, 3136)              0         \n",
      "_________________________________________________________________\n",
      "dense (Dense)                (None, 128)               401536    \n",
      "_________________________________________________________________\n",
      "batch_normalization_3 (Batch (None, 128)               512       \n",
      "_________________________________________________________________\n",
      "activation_3 (Activation)    (None, 128)               0         \n",
      "_________________________________________________________________\n",
      "dropout_3 (Dropout)          (None, 128)               0         \n",
      "_________________________________________________________________\n",
      "dense_1 (Dense)              (None, 10)                1290      \n",
      "=================================================================\n",
      "Total params: 459,562\n",
      "Trainable params: 458,986\n",
      "Non-trainable params: 576\n",
      "_________________________________________________________________\n",
      "CPU times: user 322 ms, sys: 24.1 ms, total: 346 ms\n",
      "Wall time: 388 ms\n"
     ]
    }
   ],
   "source": [
    "%%time\n",
    "\n",
    "'''\n",
    "Delete the TensorFlow graph before creating a new model, otherwise memory overflow will occur.\n",
    "'''\n",
    "keras.backend.clear_session()\n",
    "\n",
    "'''\n",
    "To reproduce the same result by the model in each iteration, we use fixed seeds for random number generation. \n",
    "'''\n",
    "np.random.seed(42)\n",
    "tf.random.set_seed(42)\n",
    "\n",
    "\n",
    "'''\n",
    "Create a Sequential model composed of a single stack of layers connected sequentially. \n",
    "'''\n",
    "initializer = 'he_normal'\n",
    "activation_func = 'relu'\n",
    "\n",
    "\n",
    "model = Sequential()\n",
    "model.add(Conv2D(32, (3, 3), kernel_initializer=initializer, padding='same', use_bias=False, \n",
    "                 input_shape=(28, 28, 1)))\n",
    "model.add(BatchNormalization())\n",
    "model.add(Activation(activation_func))\n",
    "model.add(MaxPooling2D((2, 2)))\n",
    "model.add(Dropout(0.2))\n",
    "\n",
    "model.add(Conv2D(64, (3, 3), kernel_initializer=initializer, padding='same', use_bias=False))\n",
    "model.add(BatchNormalization())\n",
    "model.add(Activation(activation_func))\n",
    "model.add(MaxPooling2D((2, 2)))\n",
    "model.add(Dropout(0.3))\n",
    "\n",
    "model.add(Conv2D(64, (3, 3), kernel_initializer=initializer, padding='same', use_bias=False))\n",
    "model.add(BatchNormalization())\n",
    "model.add(Activation(activation_func))\n",
    "model.add(Dropout(0.4))\n",
    "\n",
    "model.add(Flatten())\n",
    "model.add(Dense(128, kernel_initializer=initializer))\n",
    "model.add(BatchNormalization())\n",
    "model.add(Activation(activation_func))\n",
    "model.add(Dropout(0.5))\n",
    "model.add(Dense(10, activation='softmax'))\n",
    "\n",
    "\n",
    "'''\n",
    "Compile the model\n",
    "'''\n",
    "model.compile(loss=\"categorical_crossentropy\",\n",
    "              optimizer='adam',\n",
    "              metrics=[\"accuracy\"])\n",
    "\n",
    "model.summary()"
   ]
  },
  {
   "cell_type": "markdown",
   "metadata": {},
   "source": [
    "## Train the Model"
   ]
  },
  {
   "cell_type": "code",
   "execution_count": 4,
   "metadata": {},
   "outputs": [
    {
     "name": "stdout",
     "output_type": "stream",
     "text": [
      "Epoch 1/20\n",
      "430/430 [==============================] - 85s 199ms/step - loss: 0.6402 - accuracy: 0.7737 - val_loss: 0.3694 - val_accuracy: 0.8632\n",
      "Epoch 2/20\n",
      "430/430 [==============================] - 77s 178ms/step - loss: 0.4187 - accuracy: 0.8497 - val_loss: 0.2941 - val_accuracy: 0.8916\n",
      "Epoch 3/20\n",
      "430/430 [==============================] - 70s 163ms/step - loss: 0.3666 - accuracy: 0.8683 - val_loss: 0.2682 - val_accuracy: 0.9018\n",
      "Epoch 4/20\n",
      "430/430 [==============================] - 70s 164ms/step - loss: 0.3364 - accuracy: 0.8785 - val_loss: 0.2450 - val_accuracy: 0.9096\n",
      "Epoch 5/20\n",
      "430/430 [==============================] - 56s 130ms/step - loss: 0.3150 - accuracy: 0.8856 - val_loss: 0.2312 - val_accuracy: 0.9142\n",
      "Epoch 6/20\n",
      "430/430 [==============================] - 49s 114ms/step - loss: 0.3001 - accuracy: 0.8925 - val_loss: 0.2317 - val_accuracy: 0.9128\n",
      "Epoch 7/20\n",
      "430/430 [==============================] - 45s 104ms/step - loss: 0.2851 - accuracy: 0.8970 - val_loss: 0.2213 - val_accuracy: 0.9178\n",
      "Epoch 8/20\n",
      "430/430 [==============================] - 47s 109ms/step - loss: 0.2799 - accuracy: 0.8982 - val_loss: 0.2133 - val_accuracy: 0.9224\n",
      "Epoch 9/20\n",
      "430/430 [==============================] - 48s 111ms/step - loss: 0.2684 - accuracy: 0.9029 - val_loss: 0.2162 - val_accuracy: 0.9206\n",
      "Epoch 10/20\n",
      "430/430 [==============================] - 44s 103ms/step - loss: 0.2612 - accuracy: 0.9060 - val_loss: 0.2221 - val_accuracy: 0.9202\n",
      "Epoch 11/20\n",
      "430/430 [==============================] - 44s 103ms/step - loss: 0.2543 - accuracy: 0.9073 - val_loss: 0.1975 - val_accuracy: 0.9270\n",
      "Epoch 12/20\n",
      "430/430 [==============================] - 45s 106ms/step - loss: 0.2503 - accuracy: 0.9089 - val_loss: 0.1988 - val_accuracy: 0.9260\n",
      "Epoch 13/20\n",
      "430/430 [==============================] - 43s 100ms/step - loss: 0.2447 - accuracy: 0.9104 - val_loss: 0.1994 - val_accuracy: 0.9272\n",
      "Epoch 14/20\n",
      "430/430 [==============================] - 46s 106ms/step - loss: 0.2393 - accuracy: 0.9121 - val_loss: 0.1970 - val_accuracy: 0.9288\n",
      "Epoch 15/20\n",
      "430/430 [==============================] - 53s 122ms/step - loss: 0.2342 - accuracy: 0.9144 - val_loss: 0.1937 - val_accuracy: 0.9286\n",
      "Epoch 16/20\n",
      "430/430 [==============================] - 70s 163ms/step - loss: 0.2313 - accuracy: 0.9166 - val_loss: 0.1914 - val_accuracy: 0.9286\n",
      "Epoch 17/20\n",
      "430/430 [==============================] - 69s 159ms/step - loss: 0.2256 - accuracy: 0.9175 - val_loss: 0.2108 - val_accuracy: 0.9230\n",
      "Epoch 18/20\n",
      "430/430 [==============================] - 68s 157ms/step - loss: 0.2201 - accuracy: 0.9201 - val_loss: 0.1884 - val_accuracy: 0.9306\n",
      "Epoch 19/20\n",
      "430/430 [==============================] - 67s 157ms/step - loss: 0.2208 - accuracy: 0.9191 - val_loss: 0.1869 - val_accuracy: 0.9302\n",
      "Epoch 20/20\n",
      "430/430 [==============================] - 68s 158ms/step - loss: 0.2150 - accuracy: 0.9219 - val_loss: 0.1813 - val_accuracy: 0.9332\n",
      "CPU times: user 1h 4min 39s, sys: 14min 34s, total: 1h 19min 14s\n",
      "Wall time: 19min 29s\n"
     ]
    }
   ],
   "source": [
    "%%time\n",
    "\n",
    "no_of_epochs = 20\n",
    "size_of_mini_batch = 128\n",
    "\n",
    "history = model.fit(X_train, y_train, \n",
    "                    batch_size=size_of_mini_batch, \n",
    "                    epochs=no_of_epochs,\n",
    "                    verbose=1,\n",
    "                    validation_data=(X_valid, y_valid))"
   ]
  },
  {
   "cell_type": "markdown",
   "metadata": {},
   "source": [
    "## Evaluate the Model on Test Data"
   ]
  },
  {
   "cell_type": "code",
   "execution_count": 5,
   "metadata": {},
   "outputs": [
    {
     "name": "stdout",
     "output_type": "stream",
     "text": [
      "Epochs:  20\n",
      "\n",
      "Test Accuracy: 0.926\n",
      "Test Loss: 0.206\n",
      "\n",
      "Train Accuracy: 0.948\n",
      "Train Loss: 0.140\n",
      "\n",
      "Test Confusion Matrix:\n",
      "[[873   0  13  21   4   1  85   0   3   0]\n",
      " [  0 985   0  10   2   0   1   0   2   0]\n",
      " [ 14   1 878  10  43   0  54   0   0   0]\n",
      " [  6   2   8 934  25   0  25   0   0   0]\n",
      " [  0   0  15  20 913   0  52   0   0   0]\n",
      " [  0   0   0   0   0 969   0  24   0   7]\n",
      " [ 89   1  41  27  61   0 777   0   4   0]\n",
      " [  0   0   0   0   0   1   0 988   0  11]\n",
      " [  3   1   0   3   2   1   5   2 982   1]\n",
      " [  0   0   0   0   0   2   1  37   0 960]]\n"
     ]
    }
   ],
   "source": [
    "numOfEpochs = len(history.history['loss'])\n",
    "print(\"Epochs: \", numOfEpochs)\n",
    "\n",
    "test_loss, test_accuracy = model.evaluate(X_test, y_test, verbose=0)\n",
    "\n",
    "print(\"\\nTest Accuracy: {:.3f}\".format(test_accuracy))\n",
    "print(\"Test Loss: {:.3f}\".format(test_loss))\n",
    "\n",
    "train_loss, train_accuracy = model.evaluate(X_train, y_train, verbose=0)\n",
    "\n",
    "print(\"\\nTrain Accuracy: {:.3f}\".format(train_accuracy))\n",
    "print(\"Train Loss: {:.3f}\".format(train_loss))\n",
    "\n",
    "# model.predict(X_test) method return 10 probabilities per class for each instance (Dimension Nx10)\n",
    "y_test_predicted = model.predict(X_test)\n",
    "y_test_predicted_highest_proba = np.argmax(y_test_predicted, axis=1) # get the label/index of the highest probability class\n",
    "\n",
    "# get the label/index of the highest probability class\n",
    "y_test_highest_proba = np.argmax(y_test, axis=1) \n",
    "\n",
    "print(\"\\nTest Confusion Matrix:\")\n",
    "print(confusion_matrix(y_test_highest_proba, y_test_predicted_highest_proba))"
   ]
  },
  {
   "cell_type": "markdown",
   "metadata": {},
   "source": [
    "## Plot Learning Curves"
   ]
  },
  {
   "cell_type": "code",
   "execution_count": 6,
   "metadata": {},
   "outputs": [
    {
     "data": {
      "image/png": "[encoded data removed]",
      "text/plain": [
       "<Figure size 1296x432 with 2 Axes>"
      ]
     },
     "metadata": {
      "needs_background": "light"
     },
     "output_type": "display_data"
    }
   ],
   "source": [
    "plt.figure(figsize=(18,6))\n",
    "\n",
    "plt.subplot(121)\n",
    "plt.plot(range(1,numOfEpochs+1),history.history['val_accuracy'],label='validation')\n",
    "plt.plot(range(1,numOfEpochs+1),history.history['accuracy'],label='training')\n",
    "plt.legend(loc=0)\n",
    "plt.xlabel('Epochs')\n",
    "plt.ylabel('Accuracy')\n",
    "plt.xlim([1,numOfEpochs])\n",
    "plt.grid(True)\n",
    "plt.title(\"Model Accuracy\")\n",
    "\n",
    "plt.subplot(122)\n",
    "plt.plot(range(1,numOfEpochs+1),history.history['val_loss'],label='validation')\n",
    "plt.plot(range(1,numOfEpochs+1),history.history['loss'],label='training')\n",
    "plt.legend(loc=0)\n",
    "plt.xlabel('Epochs')\n",
    "plt.ylabel('Loss')\n",
    "plt.xlim([1,numOfEpochs])\n",
    "plt.grid(True)\n",
    "plt.title(\"Model Loss\")\n",
    "\n",
    "plt.show()"
   ]
  }
 ],
 "metadata": {
  "kernelspec": {
   "display_name": "Python 3",
   "language": "python",
   "name": "python3"
  },
  "language_info": {
   "codemirror_mode": {
    "name": "ipython",
    "version": 3
   },
   "file_extension": ".py",
   "mimetype": "text/x-python",
   "name": "python",
   "nbconvert_exporter": "python",
   "pygments_lexer": "ipython3",
   "version": "3.7.3"
  }
 },
 "nbformat": 4,
 "nbformat_minor": 2
}
