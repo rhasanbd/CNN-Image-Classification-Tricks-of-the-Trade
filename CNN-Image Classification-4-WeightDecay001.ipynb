{
 "cells": [
  {
   "cell_type": "markdown",
   "metadata": {},
   "source": [
    "# Image Classification using CNN - Weight Decay 0.001\n",
    "In this notebook, we perform classification of the MNIST Fashion dataset with **weight decay** regularization. We use l2 regularization and the strength of the regularization parameter is set to 0.001.\n",
    "\n",
    "\n",
    "### CNN Architecture\n",
    "\n",
    "We build a 4-hidden layer CNN model:\n",
    "- 3 Convolutional layers and 1 Fully-Connected (dense) layer\n",
    "\n",
    "### Regularization\n",
    "The l2 regularization is applied to all 4 hidden layers.\n",
    "\n",
    "### Overcome Vanishing Gradient Problem\n",
    "We use Batch Normalization to overcome the vanishing gradient problem."
   ]
  },
  {
   "cell_type": "code",
   "execution_count": 1,
   "metadata": {},
   "outputs": [],
   "source": [
    "import numpy as np\n",
    "import matplotlib.pyplot as plt\n",
    "\n",
    "from sklearn.metrics import confusion_matrix\n",
    "\n",
    "import tensorflow as tf\n",
    "from tensorflow import keras\n",
    "from tensorflow.keras.preprocessing.image import ImageDataGenerator\n",
    "\n",
    "from keras.utils.np_utils import to_categorical \n",
    "\n",
    "from tensorflow.keras.models import Sequential\n",
    "from tensorflow.keras.layers import Activation\n",
    "from tensorflow.keras.layers import Conv2D\n",
    "from tensorflow.keras.layers import MaxPooling2D\n",
    "from tensorflow.keras.layers import Dense\n",
    "from tensorflow.keras.layers import Flatten\n",
    "from tensorflow.keras.layers import Dropout\n",
    "from tensorflow.keras.layers import BatchNormalization"
   ]
  },
  {
   "cell_type": "markdown",
   "metadata": {},
   "source": [
    "## Load & Preprocess Data"
   ]
  },
  {
   "cell_type": "code",
   "execution_count": 2,
   "metadata": {},
   "outputs": [
    {
     "name": "stdout",
     "output_type": "stream",
     "text": [
      "\n",
      "Shape of Training Samples:  (55000, 28, 28, 1)\n",
      "Shape of Training Labels:  (55000, 10)\n",
      "\n",
      "Shape of Validation Samples:  (5000, 28, 28, 1)\n",
      "Shape of Validation Labels:  (5000, 10)\n",
      "\n",
      "Shape of Testing Samples:  (10000, 28, 28, 1)\n",
      "Shape of Testing Labels:  (10000, 10)\n",
      "\n",
      "Data type:  float32\n",
      "Label type:  float32\n"
     ]
    }
   ],
   "source": [
    "(X_train_full, y_train_full), (X_test, y_test) = keras.datasets.fashion_mnist.load_data()\n",
    "\n",
    "\n",
    "# Split the training set into training & validation subsets\n",
    "X_train = X_train_full[5000:]\n",
    "y_train = y_train_full[5000:]\n",
    "X_valid = X_train_full[:5000]\n",
    "y_valid = y_train_full[:5000]\n",
    "\n",
    "\n",
    "# The data must be a 4D tensor: sample size, height, width, channels\n",
    "# Add a single channel for the grayscale images (for RGB images this step is not required)\n",
    "X_train = X_train.reshape((X_train.shape[0], 28, 28, 1))\n",
    "X_valid = X_valid.reshape((X_valid.shape[0], 28, 28, 1))\n",
    "X_test = X_test.reshape((X_test.shape[0], 28, 28, 1))\n",
    "\n",
    "\n",
    "# Convert datatype to float32\n",
    "X_train = X_train.astype('float32')\n",
    "X_valid = X_valid.astype('float32')\n",
    "X_test = X_test.astype('float32')\n",
    "\n",
    "\n",
    "# Scale the data\n",
    "X_train = X_train/255.0\n",
    "X_valid = X_valid/255.0\n",
    "X_test = X_test/255.0\n",
    "\n",
    "\n",
    "# One-hot encode the labels\n",
    "y_train = to_categorical(y_train, 10)\n",
    "y_valid = to_categorical(y_valid, 10)\n",
    "y_test = to_categorical(y_test, 10)\n",
    "\n",
    "\n",
    "print(\"\\nShape of Training Samples: \", X_train.shape)\n",
    "print(\"Shape of Training Labels: \", y_train.shape)\n",
    "\n",
    "print(\"\\nShape of Validation Samples: \", X_valid.shape)\n",
    "print(\"Shape of Validation Labels: \", y_valid.shape)\n",
    "\n",
    "print(\"\\nShape of Testing Samples: \", X_test.shape)\n",
    "print(\"Shape of Testing Labels: \", y_test.shape)\n",
    "\n",
    "print(\"\\nData type: \", X_train.dtype)\n",
    "print(\"Label type: \", y_train.dtype)"
   ]
  },
  {
   "cell_type": "markdown",
   "metadata": {},
   "source": [
    "## Create the CNN Model\n",
    "\n",
    "We apply the batch normalization (BN) layer before activation. There is no need to use bias neurons in the Convolutional layers (set the use_bias to False). Because the Conv layer is followed by a BN layer that adds a bias. The BN \"shift\" parameter shifts the output of the layer (thus acts like a bias). "
   ]
  },
  {
   "cell_type": "code",
   "execution_count": 3,
   "metadata": {},
   "outputs": [
    {
     "name": "stdout",
     "output_type": "stream",
     "text": [
      "Model: \"sequential\"\n",
      "_________________________________________________________________\n",
      "Layer (type)                 Output Shape              Param #   \n",
      "=================================================================\n",
      "conv2d (Conv2D)              (None, 28, 28, 32)        288       \n",
      "_________________________________________________________________\n",
      "batch_normalization (BatchNo (None, 28, 28, 32)        128       \n",
      "_________________________________________________________________\n",
      "activation (Activation)      (None, 28, 28, 32)        0         \n",
      "_________________________________________________________________\n",
      "max_pooling2d (MaxPooling2D) (None, 14, 14, 32)        0         \n",
      "_________________________________________________________________\n",
      "conv2d_1 (Conv2D)            (None, 14, 14, 64)        18432     \n",
      "_________________________________________________________________\n",
      "batch_normalization_1 (Batch (None, 14, 14, 64)        256       \n",
      "_________________________________________________________________\n",
      "activation_1 (Activation)    (None, 14, 14, 64)        0         \n",
      "_________________________________________________________________\n",
      "max_pooling2d_1 (MaxPooling2 (None, 7, 7, 64)          0         \n",
      "_________________________________________________________________\n",
      "conv2d_2 (Conv2D)            (None, 7, 7, 64)          36864     \n",
      "_________________________________________________________________\n",
      "batch_normalization_2 (Batch (None, 7, 7, 64)          256       \n",
      "_________________________________________________________________\n",
      "activation_2 (Activation)    (None, 7, 7, 64)          0         \n",
      "_________________________________________________________________\n",
      "flatten (Flatten)            (None, 3136)              0         \n",
      "_________________________________________________________________\n",
      "dense (Dense)                (None, 128)               401536    \n",
      "_________________________________________________________________\n",
      "batch_normalization_3 (Batch (None, 128)               512       \n",
      "_________________________________________________________________\n",
      "activation_3 (Activation)    (None, 128)               0         \n",
      "_________________________________________________________________\n",
      "dense_1 (Dense)              (None, 10)                1290      \n",
      "=================================================================\n",
      "Total params: 459,562\n",
      "Trainable params: 458,986\n",
      "Non-trainable params: 576\n",
      "_________________________________________________________________\n",
      "CPU times: user 256 ms, sys: 21.4 ms, total: 277 ms\n",
      "Wall time: 328 ms\n"
     ]
    }
   ],
   "source": [
    "%%time\n",
    "\n",
    "'''\n",
    "Delete the TensorFlow graph before creating a new model, otherwise memory overflow will occur.\n",
    "'''\n",
    "keras.backend.clear_session()\n",
    "\n",
    "'''\n",
    "To reproduce the same result by the model in each iteration, we use fixed seeds for random number generation. \n",
    "'''\n",
    "np.random.seed(42)\n",
    "tf.random.set_seed(42)\n",
    "\n",
    "\n",
    "'''\n",
    "Create a Sequential model composed of a single stack of layers connected sequentially. \n",
    "'''\n",
    "initializer = 'he_normal'\n",
    "activation_func = 'relu'\n",
    "\n",
    "\n",
    "model = Sequential()\n",
    "model.add(Conv2D(32, (3, 3), kernel_initializer=initializer, padding='same', use_bias=False, \n",
    "                 input_shape=(28, 28, 1), kernel_regularizer=keras.regularizers.l2(0.001)))\n",
    "model.add(BatchNormalization())\n",
    "model.add(Activation(activation_func))\n",
    "model.add(MaxPooling2D((2, 2)))\n",
    "\n",
    "\n",
    "model.add(Conv2D(64, (3, 3), kernel_initializer=initializer, padding='same', use_bias=False,\n",
    "         kernel_regularizer=keras.regularizers.l2(0.001)))\n",
    "model.add(BatchNormalization())\n",
    "model.add(Activation(activation_func))\n",
    "model.add(MaxPooling2D((2, 2)))\n",
    "\n",
    "\n",
    "model.add(Conv2D(64, (3, 3), kernel_initializer=initializer, padding='same', use_bias=False,\n",
    "         kernel_regularizer=keras.regularizers.l2(0.001)))\n",
    "model.add(BatchNormalization())\n",
    "model.add(Activation(activation_func))\n",
    "\n",
    "model.add(Flatten())\n",
    "\n",
    "model.add(Dense(128, kernel_initializer=initializer, kernel_regularizer=keras.regularizers.l2(0.001)))\n",
    "model.add(BatchNormalization())\n",
    "model.add(Activation(activation_func))\n",
    "model.add(Dense(10, activation='softmax'))\n",
    "\n",
    "\n",
    "'''\n",
    "Compile the model\n",
    "'''\n",
    "model.compile(loss=\"categorical_crossentropy\",\n",
    "              optimizer='adam',\n",
    "              metrics=[\"accuracy\"])\n",
    "\n",
    "model.summary()"
   ]
  },
  {
   "cell_type": "markdown",
   "metadata": {},
   "source": [
    "## Train the Model"
   ]
  },
  {
   "cell_type": "code",
   "execution_count": 4,
   "metadata": {},
   "outputs": [
    {
     "name": "stdout",
     "output_type": "stream",
     "text": [
      "Epoch 1/20\n",
      "430/430 [==============================] - 67s 155ms/step - loss: 0.7745 - accuracy: 0.8781 - val_loss: 0.6713 - val_accuracy: 0.8608\n",
      "Epoch 2/20\n",
      "430/430 [==============================] - 62s 144ms/step - loss: 0.4959 - accuracy: 0.9127 - val_loss: 0.5033 - val_accuracy: 0.8944\n",
      "Epoch 3/20\n",
      "430/430 [==============================] - 64s 148ms/step - loss: 0.4120 - accuracy: 0.9214 - val_loss: 0.4447 - val_accuracy: 0.9028\n",
      "Epoch 4/20\n",
      "430/430 [==============================] - 61s 142ms/step - loss: 0.3704 - accuracy: 0.9268 - val_loss: 0.4057 - val_accuracy: 0.9148\n",
      "Epoch 5/20\n",
      "430/430 [==============================] - 61s 141ms/step - loss: 0.3451 - accuracy: 0.9308 - val_loss: 0.3943 - val_accuracy: 0.9122\n",
      "Epoch 6/20\n",
      "430/430 [==============================] - 57s 132ms/step - loss: 0.3320 - accuracy: 0.9320 - val_loss: 0.3664 - val_accuracy: 0.9210\n",
      "Epoch 7/20\n",
      "430/430 [==============================] - 39s 90ms/step - loss: 0.3151 - accuracy: 0.9373 - val_loss: 0.3848 - val_accuracy: 0.9102\n",
      "Epoch 8/20\n",
      "430/430 [==============================] - 36s 84ms/step - loss: 0.3083 - accuracy: 0.9382 - val_loss: 0.4157 - val_accuracy: 0.8994\n",
      "Epoch 9/20\n",
      "430/430 [==============================] - 35s 83ms/step - loss: 0.2972 - accuracy: 0.9422 - val_loss: 0.3772 - val_accuracy: 0.9178\n",
      "Epoch 10/20\n",
      "430/430 [==============================] - 36s 84ms/step - loss: 0.2913 - accuracy: 0.9443 - val_loss: 0.3887 - val_accuracy: 0.9126\n",
      "Epoch 11/20\n",
      "430/430 [==============================] - 36s 83ms/step - loss: 0.2850 - accuracy: 0.9455 - val_loss: 0.4586 - val_accuracy: 0.8922\n",
      "Epoch 12/20\n",
      "430/430 [==============================] - 35s 82ms/step - loss: 0.2734 - accuracy: 0.9494 - val_loss: 0.3680 - val_accuracy: 0.9144\n",
      "Epoch 13/20\n",
      "430/430 [==============================] - 36s 83ms/step - loss: 0.2740 - accuracy: 0.9495 - val_loss: 0.3557 - val_accuracy: 0.9240\n",
      "Epoch 14/20\n",
      "430/430 [==============================] - 35s 82ms/step - loss: 0.2654 - accuracy: 0.9515 - val_loss: 0.3798 - val_accuracy: 0.9152\n",
      "Epoch 15/20\n",
      "430/430 [==============================] - 35s 82ms/step - loss: 0.2619 - accuracy: 0.9535 - val_loss: 0.4157 - val_accuracy: 0.9064\n",
      "Epoch 16/20\n",
      "430/430 [==============================] - 35s 82ms/step - loss: 0.2544 - accuracy: 0.9557 - val_loss: 0.3842 - val_accuracy: 0.9110\n",
      "Epoch 17/20\n",
      "430/430 [==============================] - 35s 82ms/step - loss: 0.2499 - accuracy: 0.9572 - val_loss: 0.3766 - val_accuracy: 0.9132\n",
      "Epoch 18/20\n",
      "430/430 [==============================] - 36s 84ms/step - loss: 0.2450 - accuracy: 0.9574 - val_loss: 0.3761 - val_accuracy: 0.9214\n",
      "Epoch 19/20\n",
      "430/430 [==============================] - 36s 83ms/step - loss: 0.2440 - accuracy: 0.9574 - val_loss: 0.3780 - val_accuracy: 0.9160\n",
      "Epoch 20/20\n",
      "430/430 [==============================] - 35s 82ms/step - loss: 0.2409 - accuracy: 0.9596 - val_loss: 0.3814 - val_accuracy: 0.9158\n",
      "CPU times: user 57min 13s, sys: 8min 22s, total: 1h 5min 36s\n",
      "Wall time: 14min 36s\n"
     ]
    }
   ],
   "source": [
    "%%time\n",
    "\n",
    "no_of_epochs = 20\n",
    "size_of_mini_batch = 128\n",
    "\n",
    "history = model.fit(X_train, y_train, \n",
    "                    batch_size=size_of_mini_batch, \n",
    "                    epochs=no_of_epochs,\n",
    "                    verbose=1,\n",
    "                    validation_data=(X_valid, y_valid))"
   ]
  },
  {
   "cell_type": "markdown",
   "metadata": {},
   "source": [
    "## Evaluate the Model on Test Data"
   ]
  },
  {
   "cell_type": "code",
   "execution_count": 5,
   "metadata": {},
   "outputs": [
    {
     "name": "stdout",
     "output_type": "stream",
     "text": [
      "Epochs:  20\n",
      "\n",
      "Test Accuracy: 0.910\n",
      "Test Loss: 0.419\n",
      "\n",
      "Train Accuracy: 0.960\n",
      "Train Loss: 0.246\n",
      "\n",
      "Test Confusion Matrix:\n",
      "[[895   1  12  10   1   2  76   1   2   0]\n",
      " [  0 985   0  11   2   0   0   0   2   0]\n",
      " [ 26   1 897   6  28   0  42   0   0   0]\n",
      " [ 30   5  13 881  23   0  46   0   2   0]\n",
      " [  3   5  69  26 851   0  46   0   0   0]\n",
      " [  0   0   0   0   0 982   0  17   0   1]\n",
      " [114   1  70  12  49   0 751   0   3   0]\n",
      " [  0   0   0   0   0   4   0 986   0  10]\n",
      " [ 13   6   1   5   1   9   5   6 953   1]\n",
      " [  0   0   0   0   0  24   0  61   1 914]]\n"
     ]
    }
   ],
   "source": [
    "numOfEpochs = len(history.history['loss'])\n",
    "print(\"Epochs: \", numOfEpochs)\n",
    "\n",
    "test_loss, test_accuracy = model.evaluate(X_test, y_test, verbose=0)\n",
    "\n",
    "print(\"\\nTest Accuracy: {:.3f}\".format(test_accuracy))\n",
    "print(\"Test Loss: {:.3f}\".format(test_loss))\n",
    "\n",
    "train_loss, train_accuracy = model.evaluate(X_train, y_train, verbose=0)\n",
    "\n",
    "print(\"\\nTrain Accuracy: {:.3f}\".format(train_accuracy))\n",
    "print(\"Train Loss: {:.3f}\".format(train_loss))\n",
    "\n",
    "# model.predict(X_test) method return 10 probabilities per class for each instance (Dimension Nx10)\n",
    "y_test_predicted = model.predict(X_test)\n",
    "y_test_predicted_highest_proba = np.argmax(y_test_predicted, axis=1) # get the label/index of the highest probability class\n",
    "\n",
    "# get the label/index of the highest probability class\n",
    "y_test_highest_proba = np.argmax(y_test, axis=1) \n",
    "\n",
    "print(\"\\nTest Confusion Matrix:\")\n",
    "print(confusion_matrix(y_test_highest_proba, y_test_predicted_highest_proba))"
   ]
  },
  {
   "cell_type": "markdown",
   "metadata": {},
   "source": [
    "## Plot Learning Curves"
   ]
  },
  {
   "cell_type": "code",
   "execution_count": 6,
   "metadata": {},
   "outputs": [
    {
     "data": {
      "image/png": "[encoded data removed]",
      "text/plain": [
       "<Figure size 1296x432 with 2 Axes>"
      ]
     },
     "metadata": {
      "needs_background": "light"
     },
     "output_type": "display_data"
    }
   ],
   "source": [
    "plt.figure(figsize=(18,6))\n",
    "\n",
    "plt.subplot(121)\n",
    "plt.plot(range(1,numOfEpochs+1),history.history['val_accuracy'],label='validation')\n",
    "plt.plot(range(1,numOfEpochs+1),history.history['accuracy'],label='training')\n",
    "plt.legend(loc=0)\n",
    "plt.xlabel('Epochs')\n",
    "plt.ylabel('Accuracy')\n",
    "plt.xlim([1,numOfEpochs])\n",
    "plt.grid(True)\n",
    "plt.title(\"Model Accuracy\")\n",
    "\n",
    "plt.subplot(122)\n",
    "plt.plot(range(1,numOfEpochs+1),history.history['val_loss'],label='validation')\n",
    "plt.plot(range(1,numOfEpochs+1),history.history['loss'],label='training')\n",
    "plt.legend(loc=0)\n",
    "plt.xlabel('Epochs')\n",
    "plt.ylabel('Loss')\n",
    "plt.xlim([1,numOfEpochs])\n",
    "plt.grid(True)\n",
    "plt.title(\"Model Loss\")\n",
    "\n",
    "plt.show()"
   ]
  }
 ],
 "metadata": {
  "kernelspec": {
   "display_name": "Python 3",
   "language": "python",
   "name": "python3"
  },
  "language_info": {
   "codemirror_mode": {
    "name": "ipython",
    "version": 3
   },
   "file_extension": ".py",
   "mimetype": "text/x-python",
   "name": "python",
   "nbconvert_exporter": "python",
   "pygments_lexer": "ipython3",
   "version": "3.7.3"
  }
 },
 "nbformat": 4,
 "nbformat_minor": 2
}
